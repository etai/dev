{
 "cells": [
  {
   "cell_type": "code",
   "execution_count": 13,
   "metadata": {},
   "outputs": [
    {
     "name": "stderr",
     "output_type": "stream",
     "text": [
      "\n",
      "Attaching package: ‘dplyr’\n",
      "\n",
      "\n",
      "The following objects are masked from ‘package:stats’:\n",
      "\n",
      "    filter, lag\n",
      "\n",
      "\n",
      "The following objects are masked from ‘package:base’:\n",
      "\n",
      "    intersect, setdiff, setequal, union\n",
      "\n",
      "\n"
     ]
    }
   ],
   "source": [
    "library(dplyr)"
   ]
  },
  {
   "cell_type": "code",
   "execution_count": 5,
   "metadata": {},
   "outputs": [
    {
     "data": {
      "text/html": [
       "105000"
      ],
      "text/latex": [
       "105000"
      ],
      "text/markdown": [
       "105000"
      ],
      "text/plain": [
       "[1] 105000"
      ]
     },
     "metadata": {},
     "output_type": "display_data"
    }
   ],
   "source": [
    "# reading data for a specific case where: tree.type=='6_taxa.nzero_2', internal.el==0.1, test=='AU_true'\n",
    "# since we had a 1000 simulations, and 6 taxa has 105 possible trees, we expect 105000 rows\n",
    "\n",
    "df_tmp <- read.csv(file=\"df_tmp.csv\", \n",
    "                   header=TRUE,\n",
    "                   sep=\",\")\n",
    "                   \n",
    "nrow(df_tmp)"
   ]
  },
  {
   "cell_type": "code",
   "execution_count": 6,
   "metadata": {},
   "outputs": [
    {
     "data": {
      "text/html": [
       "<table>\n",
       "<caption>A data.frame: 10 × 10</caption>\n",
       "<thead>\n",
       "\t<tr><th></th><th scope=col>taxa</th><th scope=col>sim.index</th><th scope=col>tree.index</th><th scope=col>tree.type</th><th scope=col>internal.el</th><th scope=col>nsim</th><th scope=col>instanceRun</th><th scope=col>p.value</th><th scope=col>test</th><th scope=col>true.set</th></tr>\n",
       "\t<tr><th></th><th scope=col>&lt;int&gt;</th><th scope=col>&lt;int&gt;</th><th scope=col>&lt;int&gt;</th><th scope=col>&lt;fct&gt;</th><th scope=col>&lt;dbl&gt;</th><th scope=col>&lt;int&gt;</th><th scope=col>&lt;dbl&gt;</th><th scope=col>&lt;dbl&gt;</th><th scope=col>&lt;fct&gt;</th><th scope=col>&lt;int&gt;</th></tr>\n",
       "</thead>\n",
       "<tbody>\n",
       "\t<tr><th scope=row>104991</th><td>6</td><td>1000</td><td> 96</td><td>6_taxa.nzero_2</td><td>0.1</td><td>1000</td><td>2.018111e+13</td><td>0.570</td><td>AU_true</td><td>1</td></tr>\n",
       "\t<tr><th scope=row>104992</th><td>6</td><td>1000</td><td> 97</td><td>6_taxa.nzero_2</td><td>0.1</td><td>1000</td><td>2.018111e+13</td><td>0.000</td><td>AU_true</td><td>0</td></tr>\n",
       "\t<tr><th scope=row>104993</th><td>6</td><td>1000</td><td> 98</td><td>6_taxa.nzero_2</td><td>0.1</td><td>1000</td><td>2.018111e+13</td><td>0.000</td><td>AU_true</td><td>0</td></tr>\n",
       "\t<tr><th scope=row>104994</th><td>6</td><td>1000</td><td> 99</td><td>6_taxa.nzero_2</td><td>0.1</td><td>1000</td><td>2.018111e+13</td><td>0.000</td><td>AU_true</td><td>0</td></tr>\n",
       "\t<tr><th scope=row>104995</th><td>6</td><td>1000</td><td>100</td><td>6_taxa.nzero_2</td><td>0.1</td><td>1000</td><td>2.018111e+13</td><td>0.000</td><td>AU_true</td><td>0</td></tr>\n",
       "\t<tr><th scope=row>104996</th><td>6</td><td>1000</td><td>101</td><td>6_taxa.nzero_2</td><td>0.1</td><td>1000</td><td>2.018111e+13</td><td>0.000</td><td>AU_true</td><td>0</td></tr>\n",
       "\t<tr><th scope=row>104997</th><td>6</td><td>1000</td><td>102</td><td>6_taxa.nzero_2</td><td>0.1</td><td>1000</td><td>2.018111e+13</td><td>0.237</td><td>AU_true</td><td>1</td></tr>\n",
       "\t<tr><th scope=row>104998</th><td>6</td><td>1000</td><td>103</td><td>6_taxa.nzero_2</td><td>0.1</td><td>1000</td><td>2.018111e+13</td><td>0.000</td><td>AU_true</td><td>0</td></tr>\n",
       "\t<tr><th scope=row>104999</th><td>6</td><td>1000</td><td>104</td><td>6_taxa.nzero_2</td><td>0.1</td><td>1000</td><td>2.018111e+13</td><td>0.000</td><td>AU_true</td><td>0</td></tr>\n",
       "\t<tr><th scope=row>105000</th><td>6</td><td>1000</td><td>105</td><td>6_taxa.nzero_2</td><td>0.1</td><td>1000</td><td>2.018111e+13</td><td>0.000</td><td>AU_true</td><td>0</td></tr>\n",
       "</tbody>\n",
       "</table>\n"
      ],
      "text/latex": [
       "A data.frame: 10 × 10\n",
       "\\begin{tabular}{r|llllllllll}\n",
       "  & taxa & sim.index & tree.index & tree.type & internal.el & nsim & instanceRun & p.value & test & true.set\\\\\n",
       "  & <int> & <int> & <int> & <fct> & <dbl> & <int> & <dbl> & <dbl> & <fct> & <int>\\\\\n",
       "\\hline\n",
       "\t104991 & 6 & 1000 &  96 & 6\\_taxa.nzero\\_2 & 0.1 & 1000 & 2.018111e+13 & 0.570 & AU\\_true & 1\\\\\n",
       "\t104992 & 6 & 1000 &  97 & 6\\_taxa.nzero\\_2 & 0.1 & 1000 & 2.018111e+13 & 0.000 & AU\\_true & 0\\\\\n",
       "\t104993 & 6 & 1000 &  98 & 6\\_taxa.nzero\\_2 & 0.1 & 1000 & 2.018111e+13 & 0.000 & AU\\_true & 0\\\\\n",
       "\t104994 & 6 & 1000 &  99 & 6\\_taxa.nzero\\_2 & 0.1 & 1000 & 2.018111e+13 & 0.000 & AU\\_true & 0\\\\\n",
       "\t104995 & 6 & 1000 & 100 & 6\\_taxa.nzero\\_2 & 0.1 & 1000 & 2.018111e+13 & 0.000 & AU\\_true & 0\\\\\n",
       "\t104996 & 6 & 1000 & 101 & 6\\_taxa.nzero\\_2 & 0.1 & 1000 & 2.018111e+13 & 0.000 & AU\\_true & 0\\\\\n",
       "\t104997 & 6 & 1000 & 102 & 6\\_taxa.nzero\\_2 & 0.1 & 1000 & 2.018111e+13 & 0.237 & AU\\_true & 1\\\\\n",
       "\t104998 & 6 & 1000 & 103 & 6\\_taxa.nzero\\_2 & 0.1 & 1000 & 2.018111e+13 & 0.000 & AU\\_true & 0\\\\\n",
       "\t104999 & 6 & 1000 & 104 & 6\\_taxa.nzero\\_2 & 0.1 & 1000 & 2.018111e+13 & 0.000 & AU\\_true & 0\\\\\n",
       "\t105000 & 6 & 1000 & 105 & 6\\_taxa.nzero\\_2 & 0.1 & 1000 & 2.018111e+13 & 0.000 & AU\\_true & 0\\\\\n",
       "\\end{tabular}\n"
      ],
      "text/markdown": [
       "\n",
       "A data.frame: 10 × 10\n",
       "\n",
       "| <!--/--> | taxa &lt;int&gt; | sim.index &lt;int&gt; | tree.index &lt;int&gt; | tree.type &lt;fct&gt; | internal.el &lt;dbl&gt; | nsim &lt;int&gt; | instanceRun &lt;dbl&gt; | p.value &lt;dbl&gt; | test &lt;fct&gt; | true.set &lt;int&gt; |\n",
       "|---|---|---|---|---|---|---|---|---|---|---|\n",
       "| 104991 | 6 | 1000 |  96 | 6_taxa.nzero_2 | 0.1 | 1000 | 2.018111e+13 | 0.570 | AU_true | 1 |\n",
       "| 104992 | 6 | 1000 |  97 | 6_taxa.nzero_2 | 0.1 | 1000 | 2.018111e+13 | 0.000 | AU_true | 0 |\n",
       "| 104993 | 6 | 1000 |  98 | 6_taxa.nzero_2 | 0.1 | 1000 | 2.018111e+13 | 0.000 | AU_true | 0 |\n",
       "| 104994 | 6 | 1000 |  99 | 6_taxa.nzero_2 | 0.1 | 1000 | 2.018111e+13 | 0.000 | AU_true | 0 |\n",
       "| 104995 | 6 | 1000 | 100 | 6_taxa.nzero_2 | 0.1 | 1000 | 2.018111e+13 | 0.000 | AU_true | 0 |\n",
       "| 104996 | 6 | 1000 | 101 | 6_taxa.nzero_2 | 0.1 | 1000 | 2.018111e+13 | 0.000 | AU_true | 0 |\n",
       "| 104997 | 6 | 1000 | 102 | 6_taxa.nzero_2 | 0.1 | 1000 | 2.018111e+13 | 0.237 | AU_true | 1 |\n",
       "| 104998 | 6 | 1000 | 103 | 6_taxa.nzero_2 | 0.1 | 1000 | 2.018111e+13 | 0.000 | AU_true | 0 |\n",
       "| 104999 | 6 | 1000 | 104 | 6_taxa.nzero_2 | 0.1 | 1000 | 2.018111e+13 | 0.000 | AU_true | 0 |\n",
       "| 105000 | 6 | 1000 | 105 | 6_taxa.nzero_2 | 0.1 | 1000 | 2.018111e+13 | 0.000 | AU_true | 0 |\n",
       "\n"
      ],
      "text/plain": [
       "       taxa sim.index tree.index tree.type      internal.el nsim instanceRun \n",
       "104991 6    1000       96        6_taxa.nzero_2 0.1         1000 2.018111e+13\n",
       "104992 6    1000       97        6_taxa.nzero_2 0.1         1000 2.018111e+13\n",
       "104993 6    1000       98        6_taxa.nzero_2 0.1         1000 2.018111e+13\n",
       "104994 6    1000       99        6_taxa.nzero_2 0.1         1000 2.018111e+13\n",
       "104995 6    1000      100        6_taxa.nzero_2 0.1         1000 2.018111e+13\n",
       "104996 6    1000      101        6_taxa.nzero_2 0.1         1000 2.018111e+13\n",
       "104997 6    1000      102        6_taxa.nzero_2 0.1         1000 2.018111e+13\n",
       "104998 6    1000      103        6_taxa.nzero_2 0.1         1000 2.018111e+13\n",
       "104999 6    1000      104        6_taxa.nzero_2 0.1         1000 2.018111e+13\n",
       "105000 6    1000      105        6_taxa.nzero_2 0.1         1000 2.018111e+13\n",
       "       p.value test    true.set\n",
       "104991 0.570   AU_true 1       \n",
       "104992 0.000   AU_true 0       \n",
       "104993 0.000   AU_true 0       \n",
       "104994 0.000   AU_true 0       \n",
       "104995 0.000   AU_true 0       \n",
       "104996 0.000   AU_true 0       \n",
       "104997 0.237   AU_true 1       \n",
       "104998 0.000   AU_true 0       \n",
       "104999 0.000   AU_true 0       \n",
       "105000 0.000   AU_true 0       "
      ]
     },
     "metadata": {},
     "output_type": "display_data"
    }
   ],
   "source": [
    "tail(df_tmp,10)"
   ]
  },
  {
   "cell_type": "code",
   "execution_count": 21,
   "metadata": {},
   "outputs": [],
   "source": [
    "nsim <- mean(df_tmp$nsim) # extracting number of simulations from data\n",
    "taxa <- mean(df_tmp$taxa) # extracting the taxa (6 or 8)\n",
    "ntrue <- sum(df_tmp$true.set) # extracting number of true trees\n",
    "\n",
    "# setting the probability we want above which a tree will be included in the confidence set (CS)\n",
    "probability.threshold <- 0.05 "
   ]
  },
  {
   "cell_type": "markdown",
   "metadata": {},
   "source": [
    "Define $$p_j= \\text{long-run proportion of } C_b \\text{ with } j\\in C_b \\tag{1}$$"
   ]
  },
  {
   "cell_type": "code",
   "execution_count": 8,
   "metadata": {},
   "outputs": [],
   "source": [
    "# adding a column for the individual tree index probability to be in the CS\n",
    "df_tmp$p.i <- as.numeric(df_tmp$p.value > probability.threshold)"
   ]
  },
  {
   "cell_type": "code",
   "execution_count": 42,
   "metadata": {},
   "outputs": [
    {
     "data": {
      "text/html": [
       "105"
      ],
      "text/latex": [
       "105"
      ],
      "text/markdown": [
       "105"
      ],
      "text/plain": [
       "[1] 105"
      ]
     },
     "metadata": {},
     "output_type": "display_data"
    }
   ],
   "source": [
    "# defining a function to determine the number of possible trees, for later iterations:\n",
    "number_of_possible_trees <- function(taxa){\n",
    "    b <- factorial(2*taxa - 5)/(factorial(taxa - 3)*2^(taxa - 3))\n",
    "    return(b)\n",
    "}\n",
    "\n",
    "number_of_possible_trees(taxa)"
   ]
  },
  {
   "cell_type": "code",
   "execution_count": 11,
   "metadata": {},
   "outputs": [],
   "source": [
    "# preparing for loop:\n",
    "upper_limit <- number_of_possible_trees(taxa)\n",
    "\n",
    "cov_tmp <- data.frame(\n",
    "  tree.type=character(),\n",
    "  internal.el=integer(),\n",
    "  test=character(),\n",
    "  tree_i=integer(), \n",
    "  tree_j=integer(),\n",
    "  p.i=double(),\n",
    "  p.j=double(),\n",
    "  p.ij=double(),\n",
    "  stringsAsFactors=FALSE\n",
    ")"
   ]
  },
  {
   "cell_type": "markdown",
   "metadata": {},
   "source": [
    "$$p_{ij}= \\text{long-run proportion of } C_b \\text{ with both } i,j\\in C_b \\tag{2}$$"
   ]
  },
  {
   "cell_type": "code",
   "execution_count": 14,
   "metadata": {},
   "outputs": [],
   "source": [
    "# main loop to check for correlation between every combination of trees:\n",
    "k <- 1\n",
    "for (tree_i in c(1:(upper_limit-1))){\n",
    "  lower_limit <- tree_i + 1\n",
    "  tmp.p.i <- sum(df_tmp %>% filter(tree.index==tree_i) %>% select(p.i))/nsim\n",
    "  for (tree_j in c(lower_limit:upper_limit)){\n",
    "    tmp.p.j <- sum(df_tmp %>% filter(tree.index==tree_j) %>% select(p.i))/nsim\n",
    "    tmp.p.ij <- as.double((df_tmp %>% \n",
    "                    filter((tree.index==tree_i & p.i == 1) | (tree.index==tree_j & p.i == 1)) %>% \n",
    "                    group_by(sim.index) %>% \n",
    "                    summarize(n=n()) %>%\n",
    "                    # already filtered out on either one of them in the set, so 0 isn't possible, \n",
    "                    # so we're safe to assume the possible values here are 1 or 2. \n",
    "                    # Using a minus 1 logic to determine of they're both in the set:\n",
    "                    mutate(n=n-1) %>% summarize(sum(n)))/nsim) \n",
    "    cov_tmp[k,] <- list('6_taxa.nzero_2', 0.1, 'AU_true', tree_i, tree_j, tmp.p.i, tmp.p.j, tmp.p.ij)\n",
    "    k <- k + 1\n",
    "  }\n",
    "}"
   ]
  },
  {
   "cell_type": "code",
   "execution_count": 15,
   "metadata": {},
   "outputs": [
    {
     "data": {
      "text/html": [
       "5460"
      ],
      "text/latex": [
       "5460"
      ],
      "text/markdown": [
       "5460"
      ],
      "text/plain": [
       "[1] 5460"
      ]
     },
     "metadata": {},
     "output_type": "display_data"
    }
   ],
   "source": [
    "# we expect to find 105 choose 2 rows = 5460\n",
    "nrow(cov_tmp)"
   ]
  },
  {
   "cell_type": "code",
   "execution_count": 18,
   "metadata": {},
   "outputs": [
    {
     "data": {
      "text/html": [
       "<table>\n",
       "<caption>A data.frame: 15 × 8</caption>\n",
       "<thead>\n",
       "\t<tr><th></th><th scope=col>tree.type</th><th scope=col>internal.el</th><th scope=col>test</th><th scope=col>tree_i</th><th scope=col>tree_j</th><th scope=col>p.i</th><th scope=col>p.j</th><th scope=col>p.ij</th></tr>\n",
       "\t<tr><th></th><th scope=col>&lt;chr&gt;</th><th scope=col>&lt;dbl&gt;</th><th scope=col>&lt;chr&gt;</th><th scope=col>&lt;int&gt;</th><th scope=col>&lt;int&gt;</th><th scope=col>&lt;dbl&gt;</th><th scope=col>&lt;dbl&gt;</th><th scope=col>&lt;dbl&gt;</th></tr>\n",
       "</thead>\n",
       "<tbody>\n",
       "\t<tr><th scope=row>4515</th><td>6_taxa.nzero_2</td><td>0.1</td><td>AU_true</td><td>62</td><td>63</td><td>0.998</td><td>0.000</td><td>0.000</td></tr>\n",
       "\t<tr><th scope=row>4516</th><td>6_taxa.nzero_2</td><td>0.1</td><td>AU_true</td><td>62</td><td>64</td><td>0.998</td><td>0.999</td><td>0.997</td></tr>\n",
       "\t<tr><th scope=row>4517</th><td>6_taxa.nzero_2</td><td>0.1</td><td>AU_true</td><td>62</td><td>65</td><td>0.998</td><td>1.000</td><td>0.998</td></tr>\n",
       "\t<tr><th scope=row>4518</th><td>6_taxa.nzero_2</td><td>0.1</td><td>AU_true</td><td>62</td><td>66</td><td>0.998</td><td>0.000</td><td>0.000</td></tr>\n",
       "\t<tr><th scope=row>4519</th><td>6_taxa.nzero_2</td><td>0.1</td><td>AU_true</td><td>62</td><td>67</td><td>0.998</td><td>1.000</td><td>0.998</td></tr>\n",
       "\t<tr><th scope=row>4520</th><td>6_taxa.nzero_2</td><td>0.1</td><td>AU_true</td><td>62</td><td>68</td><td>0.998</td><td>0.000</td><td>0.000</td></tr>\n",
       "\t<tr><th scope=row>4521</th><td>6_taxa.nzero_2</td><td>0.1</td><td>AU_true</td><td>62</td><td>69</td><td>0.998</td><td>0.000</td><td>0.000</td></tr>\n",
       "\t<tr><th scope=row>4522</th><td>6_taxa.nzero_2</td><td>0.1</td><td>AU_true</td><td>62</td><td>70</td><td>0.998</td><td>0.000</td><td>0.000</td></tr>\n",
       "\t<tr><th scope=row>4523</th><td>6_taxa.nzero_2</td><td>0.1</td><td>AU_true</td><td>62</td><td>71</td><td>0.998</td><td>0.000</td><td>0.000</td></tr>\n",
       "\t<tr><th scope=row>4524</th><td>6_taxa.nzero_2</td><td>0.1</td><td>AU_true</td><td>62</td><td>72</td><td>0.998</td><td>0.000</td><td>0.000</td></tr>\n",
       "\t<tr><th scope=row>4525</th><td>6_taxa.nzero_2</td><td>0.1</td><td>AU_true</td><td>62</td><td>73</td><td>0.998</td><td>0.000</td><td>0.000</td></tr>\n",
       "\t<tr><th scope=row>4526</th><td>6_taxa.nzero_2</td><td>0.1</td><td>AU_true</td><td>62</td><td>74</td><td>0.998</td><td>0.000</td><td>0.000</td></tr>\n",
       "\t<tr><th scope=row>4527</th><td>6_taxa.nzero_2</td><td>0.1</td><td>AU_true</td><td>62</td><td>75</td><td>0.998</td><td>0.000</td><td>0.000</td></tr>\n",
       "\t<tr><th scope=row>4528</th><td>6_taxa.nzero_2</td><td>0.1</td><td>AU_true</td><td>62</td><td>76</td><td>0.998</td><td>0.000</td><td>0.000</td></tr>\n",
       "\t<tr><th scope=row>4529</th><td>6_taxa.nzero_2</td><td>0.1</td><td>AU_true</td><td>62</td><td>77</td><td>0.998</td><td>0.000</td><td>0.000</td></tr>\n",
       "</tbody>\n",
       "</table>\n"
      ],
      "text/latex": [
       "A data.frame: 15 × 8\n",
       "\\begin{tabular}{r|llllllll}\n",
       "  & tree.type & internal.el & test & tree\\_i & tree\\_j & p.i & p.j & p.ij\\\\\n",
       "  & <chr> & <dbl> & <chr> & <int> & <int> & <dbl> & <dbl> & <dbl>\\\\\n",
       "\\hline\n",
       "\t4515 & 6\\_taxa.nzero\\_2 & 0.1 & AU\\_true & 62 & 63 & 0.998 & 0.000 & 0.000\\\\\n",
       "\t4516 & 6\\_taxa.nzero\\_2 & 0.1 & AU\\_true & 62 & 64 & 0.998 & 0.999 & 0.997\\\\\n",
       "\t4517 & 6\\_taxa.nzero\\_2 & 0.1 & AU\\_true & 62 & 65 & 0.998 & 1.000 & 0.998\\\\\n",
       "\t4518 & 6\\_taxa.nzero\\_2 & 0.1 & AU\\_true & 62 & 66 & 0.998 & 0.000 & 0.000\\\\\n",
       "\t4519 & 6\\_taxa.nzero\\_2 & 0.1 & AU\\_true & 62 & 67 & 0.998 & 1.000 & 0.998\\\\\n",
       "\t4520 & 6\\_taxa.nzero\\_2 & 0.1 & AU\\_true & 62 & 68 & 0.998 & 0.000 & 0.000\\\\\n",
       "\t4521 & 6\\_taxa.nzero\\_2 & 0.1 & AU\\_true & 62 & 69 & 0.998 & 0.000 & 0.000\\\\\n",
       "\t4522 & 6\\_taxa.nzero\\_2 & 0.1 & AU\\_true & 62 & 70 & 0.998 & 0.000 & 0.000\\\\\n",
       "\t4523 & 6\\_taxa.nzero\\_2 & 0.1 & AU\\_true & 62 & 71 & 0.998 & 0.000 & 0.000\\\\\n",
       "\t4524 & 6\\_taxa.nzero\\_2 & 0.1 & AU\\_true & 62 & 72 & 0.998 & 0.000 & 0.000\\\\\n",
       "\t4525 & 6\\_taxa.nzero\\_2 & 0.1 & AU\\_true & 62 & 73 & 0.998 & 0.000 & 0.000\\\\\n",
       "\t4526 & 6\\_taxa.nzero\\_2 & 0.1 & AU\\_true & 62 & 74 & 0.998 & 0.000 & 0.000\\\\\n",
       "\t4527 & 6\\_taxa.nzero\\_2 & 0.1 & AU\\_true & 62 & 75 & 0.998 & 0.000 & 0.000\\\\\n",
       "\t4528 & 6\\_taxa.nzero\\_2 & 0.1 & AU\\_true & 62 & 76 & 0.998 & 0.000 & 0.000\\\\\n",
       "\t4529 & 6\\_taxa.nzero\\_2 & 0.1 & AU\\_true & 62 & 77 & 0.998 & 0.000 & 0.000\\\\\n",
       "\\end{tabular}\n"
      ],
      "text/markdown": [
       "\n",
       "A data.frame: 15 × 8\n",
       "\n",
       "| <!--/--> | tree.type &lt;chr&gt; | internal.el &lt;dbl&gt; | test &lt;chr&gt; | tree_i &lt;int&gt; | tree_j &lt;int&gt; | p.i &lt;dbl&gt; | p.j &lt;dbl&gt; | p.ij &lt;dbl&gt; |\n",
       "|---|---|---|---|---|---|---|---|---|\n",
       "| 4515 | 6_taxa.nzero_2 | 0.1 | AU_true | 62 | 63 | 0.998 | 0.000 | 0.000 |\n",
       "| 4516 | 6_taxa.nzero_2 | 0.1 | AU_true | 62 | 64 | 0.998 | 0.999 | 0.997 |\n",
       "| 4517 | 6_taxa.nzero_2 | 0.1 | AU_true | 62 | 65 | 0.998 | 1.000 | 0.998 |\n",
       "| 4518 | 6_taxa.nzero_2 | 0.1 | AU_true | 62 | 66 | 0.998 | 0.000 | 0.000 |\n",
       "| 4519 | 6_taxa.nzero_2 | 0.1 | AU_true | 62 | 67 | 0.998 | 1.000 | 0.998 |\n",
       "| 4520 | 6_taxa.nzero_2 | 0.1 | AU_true | 62 | 68 | 0.998 | 0.000 | 0.000 |\n",
       "| 4521 | 6_taxa.nzero_2 | 0.1 | AU_true | 62 | 69 | 0.998 | 0.000 | 0.000 |\n",
       "| 4522 | 6_taxa.nzero_2 | 0.1 | AU_true | 62 | 70 | 0.998 | 0.000 | 0.000 |\n",
       "| 4523 | 6_taxa.nzero_2 | 0.1 | AU_true | 62 | 71 | 0.998 | 0.000 | 0.000 |\n",
       "| 4524 | 6_taxa.nzero_2 | 0.1 | AU_true | 62 | 72 | 0.998 | 0.000 | 0.000 |\n",
       "| 4525 | 6_taxa.nzero_2 | 0.1 | AU_true | 62 | 73 | 0.998 | 0.000 | 0.000 |\n",
       "| 4526 | 6_taxa.nzero_2 | 0.1 | AU_true | 62 | 74 | 0.998 | 0.000 | 0.000 |\n",
       "| 4527 | 6_taxa.nzero_2 | 0.1 | AU_true | 62 | 75 | 0.998 | 0.000 | 0.000 |\n",
       "| 4528 | 6_taxa.nzero_2 | 0.1 | AU_true | 62 | 76 | 0.998 | 0.000 | 0.000 |\n",
       "| 4529 | 6_taxa.nzero_2 | 0.1 | AU_true | 62 | 77 | 0.998 | 0.000 | 0.000 |\n",
       "\n"
      ],
      "text/plain": [
       "     tree.type      internal.el test    tree_i tree_j p.i   p.j   p.ij \n",
       "4515 6_taxa.nzero_2 0.1         AU_true 62     63     0.998 0.000 0.000\n",
       "4516 6_taxa.nzero_2 0.1         AU_true 62     64     0.998 0.999 0.997\n",
       "4517 6_taxa.nzero_2 0.1         AU_true 62     65     0.998 1.000 0.998\n",
       "4518 6_taxa.nzero_2 0.1         AU_true 62     66     0.998 0.000 0.000\n",
       "4519 6_taxa.nzero_2 0.1         AU_true 62     67     0.998 1.000 0.998\n",
       "4520 6_taxa.nzero_2 0.1         AU_true 62     68     0.998 0.000 0.000\n",
       "4521 6_taxa.nzero_2 0.1         AU_true 62     69     0.998 0.000 0.000\n",
       "4522 6_taxa.nzero_2 0.1         AU_true 62     70     0.998 0.000 0.000\n",
       "4523 6_taxa.nzero_2 0.1         AU_true 62     71     0.998 0.000 0.000\n",
       "4524 6_taxa.nzero_2 0.1         AU_true 62     72     0.998 0.000 0.000\n",
       "4525 6_taxa.nzero_2 0.1         AU_true 62     73     0.998 0.000 0.000\n",
       "4526 6_taxa.nzero_2 0.1         AU_true 62     74     0.998 0.000 0.000\n",
       "4527 6_taxa.nzero_2 0.1         AU_true 62     75     0.998 0.000 0.000\n",
       "4528 6_taxa.nzero_2 0.1         AU_true 62     76     0.998 0.000 0.000\n",
       "4529 6_taxa.nzero_2 0.1         AU_true 62     77     0.998 0.000 0.000"
      ]
     },
     "metadata": {},
     "output_type": "display_data"
    }
   ],
   "source": [
    "# spot checking data\n",
    "head(cov_tmp[cov_tmp$p.i > 0,], 15)"
   ]
  },
  {
   "cell_type": "markdown",
   "metadata": {},
   "source": [
    "Then the covariance \n",
    "\n",
    "\n",
    "$$Cov[\\delta_{jb},\\delta_{ib}]=p_{ij}-p_ip_j \\tag{3}$$"
   ]
  },
  {
   "cell_type": "code",
   "execution_count": 19,
   "metadata": {},
   "outputs": [],
   "source": [
    "cov_tmp <- cov_tmp %>% mutate(cov = p.ij - p.i*p.j)"
   ]
  },
  {
   "cell_type": "markdown",
   "metadata": {},
   "source": [
    "$$Var[\\delta_{jB}]=p_j(1-p_j) \\tag{4}$$"
   ]
  },
  {
   "cell_type": "code",
   "execution_count": 20,
   "metadata": {},
   "outputs": [],
   "source": [
    "cov_tmp <- cov_tmp %>% mutate(var.i = p.i*(1 - p.i))"
   ]
  },
  {
   "cell_type": "code",
   "execution_count": 47,
   "metadata": {},
   "outputs": [
    {
     "data": {
      "text/html": [
       "<table>\n",
       "<caption>A data.frame: 15 × 10</caption>\n",
       "<thead>\n",
       "\t<tr><th></th><th scope=col>tree.type</th><th scope=col>internal.el</th><th scope=col>test</th><th scope=col>tree_i</th><th scope=col>tree_j</th><th scope=col>p.i</th><th scope=col>p.j</th><th scope=col>p.ij</th><th scope=col>cov</th><th scope=col>var.i</th></tr>\n",
       "\t<tr><th></th><th scope=col>&lt;chr&gt;</th><th scope=col>&lt;dbl&gt;</th><th scope=col>&lt;chr&gt;</th><th scope=col>&lt;int&gt;</th><th scope=col>&lt;int&gt;</th><th scope=col>&lt;dbl&gt;</th><th scope=col>&lt;dbl&gt;</th><th scope=col>&lt;dbl&gt;</th><th scope=col>&lt;dbl&gt;</th><th scope=col>&lt;dbl&gt;</th></tr>\n",
       "</thead>\n",
       "<tbody>\n",
       "\t<tr><th scope=row>4515</th><td>6_taxa.nzero_2</td><td>0.1</td><td>AU_true</td><td>62</td><td>63</td><td>0.998</td><td>0.000</td><td>0.000</td><td> 0e+00</td><td>0.001996</td></tr>\n",
       "\t<tr><th scope=row>4516</th><td>6_taxa.nzero_2</td><td>0.1</td><td>AU_true</td><td>62</td><td>64</td><td>0.998</td><td>0.999</td><td>0.997</td><td>-2e-06</td><td>0.001996</td></tr>\n",
       "\t<tr><th scope=row>4517</th><td>6_taxa.nzero_2</td><td>0.1</td><td>AU_true</td><td>62</td><td>65</td><td>0.998</td><td>1.000</td><td>0.998</td><td> 0e+00</td><td>0.001996</td></tr>\n",
       "\t<tr><th scope=row>4518</th><td>6_taxa.nzero_2</td><td>0.1</td><td>AU_true</td><td>62</td><td>66</td><td>0.998</td><td>0.000</td><td>0.000</td><td> 0e+00</td><td>0.001996</td></tr>\n",
       "\t<tr><th scope=row>4519</th><td>6_taxa.nzero_2</td><td>0.1</td><td>AU_true</td><td>62</td><td>67</td><td>0.998</td><td>1.000</td><td>0.998</td><td> 0e+00</td><td>0.001996</td></tr>\n",
       "\t<tr><th scope=row>4520</th><td>6_taxa.nzero_2</td><td>0.1</td><td>AU_true</td><td>62</td><td>68</td><td>0.998</td><td>0.000</td><td>0.000</td><td> 0e+00</td><td>0.001996</td></tr>\n",
       "\t<tr><th scope=row>4521</th><td>6_taxa.nzero_2</td><td>0.1</td><td>AU_true</td><td>62</td><td>69</td><td>0.998</td><td>0.000</td><td>0.000</td><td> 0e+00</td><td>0.001996</td></tr>\n",
       "\t<tr><th scope=row>4522</th><td>6_taxa.nzero_2</td><td>0.1</td><td>AU_true</td><td>62</td><td>70</td><td>0.998</td><td>0.000</td><td>0.000</td><td> 0e+00</td><td>0.001996</td></tr>\n",
       "\t<tr><th scope=row>4523</th><td>6_taxa.nzero_2</td><td>0.1</td><td>AU_true</td><td>62</td><td>71</td><td>0.998</td><td>0.000</td><td>0.000</td><td> 0e+00</td><td>0.001996</td></tr>\n",
       "\t<tr><th scope=row>4524</th><td>6_taxa.nzero_2</td><td>0.1</td><td>AU_true</td><td>62</td><td>72</td><td>0.998</td><td>0.000</td><td>0.000</td><td> 0e+00</td><td>0.001996</td></tr>\n",
       "\t<tr><th scope=row>4525</th><td>6_taxa.nzero_2</td><td>0.1</td><td>AU_true</td><td>62</td><td>73</td><td>0.998</td><td>0.000</td><td>0.000</td><td> 0e+00</td><td>0.001996</td></tr>\n",
       "\t<tr><th scope=row>4526</th><td>6_taxa.nzero_2</td><td>0.1</td><td>AU_true</td><td>62</td><td>74</td><td>0.998</td><td>0.000</td><td>0.000</td><td> 0e+00</td><td>0.001996</td></tr>\n",
       "\t<tr><th scope=row>4527</th><td>6_taxa.nzero_2</td><td>0.1</td><td>AU_true</td><td>62</td><td>75</td><td>0.998</td><td>0.000</td><td>0.000</td><td> 0e+00</td><td>0.001996</td></tr>\n",
       "\t<tr><th scope=row>4528</th><td>6_taxa.nzero_2</td><td>0.1</td><td>AU_true</td><td>62</td><td>76</td><td>0.998</td><td>0.000</td><td>0.000</td><td> 0e+00</td><td>0.001996</td></tr>\n",
       "\t<tr><th scope=row>4529</th><td>6_taxa.nzero_2</td><td>0.1</td><td>AU_true</td><td>62</td><td>77</td><td>0.998</td><td>0.000</td><td>0.000</td><td> 0e+00</td><td>0.001996</td></tr>\n",
       "</tbody>\n",
       "</table>\n"
      ],
      "text/latex": [
       "A data.frame: 15 × 10\n",
       "\\begin{tabular}{r|llllllllll}\n",
       "  & tree.type & internal.el & test & tree\\_i & tree\\_j & p.i & p.j & p.ij & cov & var.i\\\\\n",
       "  & <chr> & <dbl> & <chr> & <int> & <int> & <dbl> & <dbl> & <dbl> & <dbl> & <dbl>\\\\\n",
       "\\hline\n",
       "\t4515 & 6\\_taxa.nzero\\_2 & 0.1 & AU\\_true & 62 & 63 & 0.998 & 0.000 & 0.000 &  0e+00 & 0.001996\\\\\n",
       "\t4516 & 6\\_taxa.nzero\\_2 & 0.1 & AU\\_true & 62 & 64 & 0.998 & 0.999 & 0.997 & -2e-06 & 0.001996\\\\\n",
       "\t4517 & 6\\_taxa.nzero\\_2 & 0.1 & AU\\_true & 62 & 65 & 0.998 & 1.000 & 0.998 &  0e+00 & 0.001996\\\\\n",
       "\t4518 & 6\\_taxa.nzero\\_2 & 0.1 & AU\\_true & 62 & 66 & 0.998 & 0.000 & 0.000 &  0e+00 & 0.001996\\\\\n",
       "\t4519 & 6\\_taxa.nzero\\_2 & 0.1 & AU\\_true & 62 & 67 & 0.998 & 1.000 & 0.998 &  0e+00 & 0.001996\\\\\n",
       "\t4520 & 6\\_taxa.nzero\\_2 & 0.1 & AU\\_true & 62 & 68 & 0.998 & 0.000 & 0.000 &  0e+00 & 0.001996\\\\\n",
       "\t4521 & 6\\_taxa.nzero\\_2 & 0.1 & AU\\_true & 62 & 69 & 0.998 & 0.000 & 0.000 &  0e+00 & 0.001996\\\\\n",
       "\t4522 & 6\\_taxa.nzero\\_2 & 0.1 & AU\\_true & 62 & 70 & 0.998 & 0.000 & 0.000 &  0e+00 & 0.001996\\\\\n",
       "\t4523 & 6\\_taxa.nzero\\_2 & 0.1 & AU\\_true & 62 & 71 & 0.998 & 0.000 & 0.000 &  0e+00 & 0.001996\\\\\n",
       "\t4524 & 6\\_taxa.nzero\\_2 & 0.1 & AU\\_true & 62 & 72 & 0.998 & 0.000 & 0.000 &  0e+00 & 0.001996\\\\\n",
       "\t4525 & 6\\_taxa.nzero\\_2 & 0.1 & AU\\_true & 62 & 73 & 0.998 & 0.000 & 0.000 &  0e+00 & 0.001996\\\\\n",
       "\t4526 & 6\\_taxa.nzero\\_2 & 0.1 & AU\\_true & 62 & 74 & 0.998 & 0.000 & 0.000 &  0e+00 & 0.001996\\\\\n",
       "\t4527 & 6\\_taxa.nzero\\_2 & 0.1 & AU\\_true & 62 & 75 & 0.998 & 0.000 & 0.000 &  0e+00 & 0.001996\\\\\n",
       "\t4528 & 6\\_taxa.nzero\\_2 & 0.1 & AU\\_true & 62 & 76 & 0.998 & 0.000 & 0.000 &  0e+00 & 0.001996\\\\\n",
       "\t4529 & 6\\_taxa.nzero\\_2 & 0.1 & AU\\_true & 62 & 77 & 0.998 & 0.000 & 0.000 &  0e+00 & 0.001996\\\\\n",
       "\\end{tabular}\n"
      ],
      "text/markdown": [
       "\n",
       "A data.frame: 15 × 10\n",
       "\n",
       "| <!--/--> | tree.type &lt;chr&gt; | internal.el &lt;dbl&gt; | test &lt;chr&gt; | tree_i &lt;int&gt; | tree_j &lt;int&gt; | p.i &lt;dbl&gt; | p.j &lt;dbl&gt; | p.ij &lt;dbl&gt; | cov &lt;dbl&gt; | var.i &lt;dbl&gt; |\n",
       "|---|---|---|---|---|---|---|---|---|---|---|\n",
       "| 4515 | 6_taxa.nzero_2 | 0.1 | AU_true | 62 | 63 | 0.998 | 0.000 | 0.000 |  0e+00 | 0.001996 |\n",
       "| 4516 | 6_taxa.nzero_2 | 0.1 | AU_true | 62 | 64 | 0.998 | 0.999 | 0.997 | -2e-06 | 0.001996 |\n",
       "| 4517 | 6_taxa.nzero_2 | 0.1 | AU_true | 62 | 65 | 0.998 | 1.000 | 0.998 |  0e+00 | 0.001996 |\n",
       "| 4518 | 6_taxa.nzero_2 | 0.1 | AU_true | 62 | 66 | 0.998 | 0.000 | 0.000 |  0e+00 | 0.001996 |\n",
       "| 4519 | 6_taxa.nzero_2 | 0.1 | AU_true | 62 | 67 | 0.998 | 1.000 | 0.998 |  0e+00 | 0.001996 |\n",
       "| 4520 | 6_taxa.nzero_2 | 0.1 | AU_true | 62 | 68 | 0.998 | 0.000 | 0.000 |  0e+00 | 0.001996 |\n",
       "| 4521 | 6_taxa.nzero_2 | 0.1 | AU_true | 62 | 69 | 0.998 | 0.000 | 0.000 |  0e+00 | 0.001996 |\n",
       "| 4522 | 6_taxa.nzero_2 | 0.1 | AU_true | 62 | 70 | 0.998 | 0.000 | 0.000 |  0e+00 | 0.001996 |\n",
       "| 4523 | 6_taxa.nzero_2 | 0.1 | AU_true | 62 | 71 | 0.998 | 0.000 | 0.000 |  0e+00 | 0.001996 |\n",
       "| 4524 | 6_taxa.nzero_2 | 0.1 | AU_true | 62 | 72 | 0.998 | 0.000 | 0.000 |  0e+00 | 0.001996 |\n",
       "| 4525 | 6_taxa.nzero_2 | 0.1 | AU_true | 62 | 73 | 0.998 | 0.000 | 0.000 |  0e+00 | 0.001996 |\n",
       "| 4526 | 6_taxa.nzero_2 | 0.1 | AU_true | 62 | 74 | 0.998 | 0.000 | 0.000 |  0e+00 | 0.001996 |\n",
       "| 4527 | 6_taxa.nzero_2 | 0.1 | AU_true | 62 | 75 | 0.998 | 0.000 | 0.000 |  0e+00 | 0.001996 |\n",
       "| 4528 | 6_taxa.nzero_2 | 0.1 | AU_true | 62 | 76 | 0.998 | 0.000 | 0.000 |  0e+00 | 0.001996 |\n",
       "| 4529 | 6_taxa.nzero_2 | 0.1 | AU_true | 62 | 77 | 0.998 | 0.000 | 0.000 |  0e+00 | 0.001996 |\n",
       "\n"
      ],
      "text/plain": [
       "     tree.type      internal.el test    tree_i tree_j p.i   p.j   p.ij  cov   \n",
       "4515 6_taxa.nzero_2 0.1         AU_true 62     63     0.998 0.000 0.000  0e+00\n",
       "4516 6_taxa.nzero_2 0.1         AU_true 62     64     0.998 0.999 0.997 -2e-06\n",
       "4517 6_taxa.nzero_2 0.1         AU_true 62     65     0.998 1.000 0.998  0e+00\n",
       "4518 6_taxa.nzero_2 0.1         AU_true 62     66     0.998 0.000 0.000  0e+00\n",
       "4519 6_taxa.nzero_2 0.1         AU_true 62     67     0.998 1.000 0.998  0e+00\n",
       "4520 6_taxa.nzero_2 0.1         AU_true 62     68     0.998 0.000 0.000  0e+00\n",
       "4521 6_taxa.nzero_2 0.1         AU_true 62     69     0.998 0.000 0.000  0e+00\n",
       "4522 6_taxa.nzero_2 0.1         AU_true 62     70     0.998 0.000 0.000  0e+00\n",
       "4523 6_taxa.nzero_2 0.1         AU_true 62     71     0.998 0.000 0.000  0e+00\n",
       "4524 6_taxa.nzero_2 0.1         AU_true 62     72     0.998 0.000 0.000  0e+00\n",
       "4525 6_taxa.nzero_2 0.1         AU_true 62     73     0.998 0.000 0.000  0e+00\n",
       "4526 6_taxa.nzero_2 0.1         AU_true 62     74     0.998 0.000 0.000  0e+00\n",
       "4527 6_taxa.nzero_2 0.1         AU_true 62     75     0.998 0.000 0.000  0e+00\n",
       "4528 6_taxa.nzero_2 0.1         AU_true 62     76     0.998 0.000 0.000  0e+00\n",
       "4529 6_taxa.nzero_2 0.1         AU_true 62     77     0.998 0.000 0.000  0e+00\n",
       "     var.i   \n",
       "4515 0.001996\n",
       "4516 0.001996\n",
       "4517 0.001996\n",
       "4518 0.001996\n",
       "4519 0.001996\n",
       "4520 0.001996\n",
       "4521 0.001996\n",
       "4522 0.001996\n",
       "4523 0.001996\n",
       "4524 0.001996\n",
       "4525 0.001996\n",
       "4526 0.001996\n",
       "4527 0.001996\n",
       "4528 0.001996\n",
       "4529 0.001996"
      ]
     },
     "metadata": {},
     "output_type": "display_data"
    }
   ],
   "source": [
    "# spot checking data\n",
    "head(cov_tmp[cov_tmp$p.i > 0,], 15)"
   ]
  },
  {
   "cell_type": "markdown",
   "metadata": {},
   "source": [
    "$$\\sum_{j=1}^K Var[\\delta_{jb}]$$"
   ]
  },
  {
   "cell_type": "code",
   "execution_count": 53,
   "metadata": {},
   "outputs": [
    {
     "data": {
      "text/html": [
       "<table>\n",
       "<caption>A tibble: 1 × 1</caption>\n",
       "<thead>\n",
       "\t<tr><th scope=col>sum(var.delta)</th></tr>\n",
       "\t<tr><th scope=col>&lt;dbl&gt;</th></tr>\n",
       "</thead>\n",
       "<tbody>\n",
       "\t<tr><td>0.007978</td></tr>\n",
       "</tbody>\n",
       "</table>\n"
      ],
      "text/latex": [
       "A tibble: 1 × 1\n",
       "\\begin{tabular}{l}\n",
       " sum(var.delta)\\\\\n",
       " <dbl>\\\\\n",
       "\\hline\n",
       "\t 0.007978\\\\\n",
       "\\end{tabular}\n"
      ],
      "text/markdown": [
       "\n",
       "A tibble: 1 × 1\n",
       "\n",
       "| sum(var.delta) &lt;dbl&gt; |\n",
       "|---|\n",
       "| 0.007978 |\n",
       "\n"
      ],
      "text/plain": [
       "  sum(var.delta)\n",
       "1 0.007978      "
      ]
     },
     "metadata": {},
     "output_type": "display_data"
    }
   ],
   "source": [
    "var.delta <- cov_tmp %>% group_by(tree_i) %>% summarize(var.delta=mean(var.i)) %>% summarize(sum(var.delta))\n",
    "\n",
    "var.delta"
   ]
  },
  {
   "cell_type": "markdown",
   "metadata": {},
   "source": [
    "$$Var\\Big[\\sum_{j=1}^K\\delta_{jb}\\Big]=\\sum_{j=1}^K Var[\\delta_{jb}] + 2\\sum_{i<j}Cov[\\delta_{jb}, \\delta_{ib}] \\tag{5}$$\n",
    "\n",
    "\n",
    "$$Var[C]=Var\\Big[\\sum_{j=1}^K\\delta_{jb}\\Big]/(K^2B) \\tag{6}$$"
   ]
  },
  {
   "cell_type": "code",
   "execution_count": 59,
   "metadata": {},
   "outputs": [
    {
     "data": {
      "text/html": [
       "1.4735802469136e-13"
      ],
      "text/latex": [
       "1.4735802469136e-13"
      ],
      "text/markdown": [
       "1.4735802469136e-13"
      ],
      "text/plain": [
       "[1] 1.47358e-13"
      ]
     },
     "metadata": {},
     "output_type": "display_data"
    }
   ],
   "source": [
    "var.C <- as.double(( var.delta + 2*sum(cov_tmp$cov) )/(nsim*ntrue^2))\n",
    "\n",
    "var.C"
   ]
  },
  {
   "cell_type": "markdown",
   "metadata": {},
   "source": [
    "Let $C$ be the average coverage, then\n",
    "$$C=\\sum_{j=1}^K\\sum_{\\delta=1}^B\\delta_{jb}/(KB)$$ "
   ]
  },
  {
   "cell_type": "code",
   "execution_count": 60,
   "metadata": {},
   "outputs": [
    {
     "data": {
      "text/html": [
       "0.999111111111111"
      ],
      "text/latex": [
       "0.999111111111111"
      ],
      "text/markdown": [
       "0.999111111111111"
      ],
      "text/plain": [
       "[1] 0.9991111"
      ]
     },
     "metadata": {},
     "output_type": "display_data"
    }
   ],
   "source": [
    "C <- sum(df_tmp[df_tmp$true.set==1, 'p.i'])/sum(df_tmp$true.set) # the denominator here = 9000 includes both K*B\n",
    "\n",
    "C"
   ]
  },
  {
   "cell_type": "markdown",
   "metadata": {},
   "source": [
    "Logistic transformation:\n",
    "$$g(C)=\\log{\\Big[\\frac{C}{1-C}\\Big]}=\\log{[C]}-\\log{[1-C]}$$"
   ]
  },
  {
   "cell_type": "code",
   "execution_count": 61,
   "metadata": {},
   "outputs": [
    {
     "data": {
      "text/html": [
       "7.02642759882335"
      ],
      "text/latex": [
       "7.02642759882335"
      ],
      "text/markdown": [
       "7.02642759882335"
      ],
      "text/plain": [
       "[1] 7.026428"
      ]
     },
     "metadata": {},
     "output_type": "display_data"
    }
   ],
   "source": [
    "g.C <- log(1/C) + log(1/(1-C))  \n",
    "\n",
    "g.C"
   ]
  },
  {
   "cell_type": "markdown",
   "metadata": {},
   "source": [
    "$$g^\\prime(C)=\\frac{1}{C} + \\frac{1}{1-C} \\tag{7}$$"
   ]
  },
  {
   "cell_type": "code",
   "execution_count": 62,
   "metadata": {},
   "outputs": [
    {
     "data": {
      "text/html": [
       "1126.00088967965"
      ],
      "text/latex": [
       "1126.00088967965"
      ],
      "text/markdown": [
       "1126.00088967965"
      ],
      "text/plain": [
       "[1] 1126.001"
      ]
     },
     "metadata": {},
     "output_type": "display_data"
    }
   ],
   "source": [
    "g.prime.C <- 1/C + 1/(1-C)  \n",
    "  \n",
    "g.prime.C"
   ]
  },
  {
   "cell_type": "markdown",
   "metadata": {},
   "source": [
    "$$Var[g(C)]={g^\\prime(C)}^2 \\cdot Var[C] \\tag{8}$$"
   ]
  },
  {
   "cell_type": "code",
   "execution_count": 63,
   "metadata": {},
   "outputs": [
    {
     "data": {
      "text/html": [
       "1.86831998154133e-07"
      ],
      "text/latex": [
       "1.86831998154133e-07"
      ],
      "text/markdown": [
       "1.86831998154133e-07"
      ],
      "text/plain": [
       "[1] 1.86832e-07"
      ]
     },
     "metadata": {},
     "output_type": "display_data"
    }
   ],
   "source": [
    "var.g.c <- g.prime.C^2 * var.C\n",
    "  \n",
    "var.g.c"
   ]
  },
  {
   "cell_type": "markdown",
   "metadata": {},
   "source": [
    "Let $[L, U]$ be the lower and upper limits of the 95% CI for $g(C)$, then:\n",
    "$$[L, U]=g(C)\\pm 1.96 \\sqrt{Var[g(C)]} \\tag{9}$$"
   ]
  },
  {
   "cell_type": "code",
   "execution_count": 64,
   "metadata": {},
   "outputs": [
    {
     "data": {
      "text/html": [
       "<style>\n",
       ".list-inline {list-style: none; margin:0; padding: 0}\n",
       ".list-inline>li {display: inline-block}\n",
       ".list-inline>li:not(:last-child)::after {content: \"\\00b7\"; padding: 0 .5ex}\n",
       "</style>\n",
       "<ol class=list-inline><li>7.02727479053961</li><li>7.02558040710708</li></ol>\n"
      ],
      "text/latex": [
       "\\begin{enumerate*}\n",
       "\\item 7.02727479053961\n",
       "\\item 7.02558040710708\n",
       "\\end{enumerate*}\n"
      ],
      "text/markdown": [
       "1. 7.02727479053961\n",
       "2. 7.02558040710708\n",
       "\n",
       "\n"
      ],
      "text/plain": [
       "[1] 7.027275 7.025580"
      ]
     },
     "metadata": {},
     "output_type": "display_data"
    }
   ],
   "source": [
    "L.U <- c(g.C + 1.96*sqrt(var.g.c), g.C - 1.96*sqrt(var.g.c))  \n",
    "  \n",
    "L.U"
   ]
  },
  {
   "cell_type": "markdown",
   "metadata": {},
   "source": [
    "Then the 95% CI for C is:\n",
    "\n",
    "\n",
    "$$[g^{-1}(L), g^{-1}(U)] \\tag{10}$$\n"
   ]
  },
  {
   "cell_type": "code",
   "execution_count": 65,
   "metadata": {},
   "outputs": [
    {
     "data": {
      "text/html": [
       "<style>\n",
       ".list-inline {list-style: none; margin:0; padding: 0}\n",
       ".list-inline>li {display: inline-block}\n",
       ".list-inline>li:not(:last-child)::after {content: \"\\00b7\"; padding: 0 .5ex}\n",
       "</style>\n",
       "<ol class=list-inline><li>1126.95523250448</li><li>1125.04735502377</li></ol>\n"
      ],
      "text/latex": [
       "\\begin{enumerate*}\n",
       "\\item 1126.95523250448\n",
       "\\item 1125.04735502377\n",
       "\\end{enumerate*}\n"
      ],
      "text/markdown": [
       "1. 1126.95523250448\n",
       "2. 1125.04735502377\n",
       "\n",
       "\n"
      ],
      "text/plain": [
       "[1] 1126.955 1125.047"
      ]
     },
     "metadata": {},
     "output_type": "display_data"
    }
   ],
   "source": [
    "CI <- exp(L.U)\n",
    "\n",
    "CI"
   ]
  },
  {
   "cell_type": "code",
   "execution_count": null,
   "metadata": {},
   "outputs": [],
   "source": []
  }
 ],
 "metadata": {
  "kernelspec": {
   "display_name": "R",
   "language": "R",
   "name": "ir"
  },
  "language_info": {
   "codemirror_mode": "r",
   "file_extension": ".r",
   "mimetype": "text/x-r-source",
   "name": "R",
   "pygments_lexer": "r",
   "version": "3.6.2"
  }
 },
 "nbformat": 4,
 "nbformat_minor": 4
}
