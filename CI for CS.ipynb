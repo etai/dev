{
 "cells": [
  {
   "cell_type": "code",
   "execution_count": 13,
   "metadata": {},
   "outputs": [
    {
     "name": "stderr",
     "output_type": "stream",
     "text": [
      "\n",
      "Attaching package: ‘dplyr’\n",
      "\n",
      "\n",
      "The following objects are masked from ‘package:stats’:\n",
      "\n",
      "    filter, lag\n",
      "\n",
      "\n",
      "The following objects are masked from ‘package:base’:\n",
      "\n",
      "    intersect, setdiff, setequal, union\n",
      "\n",
      "\n"
     ]
    }
   ],
   "source": [
    "library(dplyr)"
   ]
  },
  {
   "cell_type": "code",
   "execution_count": 75,
   "metadata": {},
   "outputs": [
    {
     "data": {
      "text/html": [
       "105000"
      ],
      "text/latex": [
       "105000"
      ],
      "text/markdown": [
       "105000"
      ],
      "text/plain": [
       "[1] 105000"
      ]
     },
     "metadata": {},
     "output_type": "display_data"
    }
   ],
   "source": [
    "# reading data for a specific case where: tree.type=='6_taxa.nzero_2', internal.el==0.1, test=='AU_true'\n",
    "# since we had a 1000 simulations, and 6 taxa has 105 possible trees, we expect 105000 rows\n",
    "\n",
    "df_tmp <- read.csv(file=\"df_tmp.csv\", \n",
    "                   header=TRUE,\n",
    "                   sep=\",\")\n",
    "                   \n",
    "nrow(df_tmp)"
   ]
  },
  {
   "cell_type": "code",
   "execution_count": 76,
   "metadata": {},
   "outputs": [],
   "source": [
    "# filtering the data on only trees in the true set  \n",
    "df_tmp <- df_tmp %>% filter(true.set==1)"
   ]
  },
  {
   "cell_type": "code",
   "execution_count": 77,
   "metadata": {},
   "outputs": [
    {
     "data": {
      "text/html": [
       "<table>\n",
       "<caption>A data.frame: 10 × 10</caption>\n",
       "<thead>\n",
       "\t<tr><th></th><th scope=col>taxa</th><th scope=col>sim.index</th><th scope=col>tree.index</th><th scope=col>tree.type</th><th scope=col>internal.el</th><th scope=col>nsim</th><th scope=col>instanceRun</th><th scope=col>p.value</th><th scope=col>test</th><th scope=col>true.set</th></tr>\n",
       "\t<tr><th></th><th scope=col>&lt;int&gt;</th><th scope=col>&lt;int&gt;</th><th scope=col>&lt;int&gt;</th><th scope=col>&lt;fct&gt;</th><th scope=col>&lt;dbl&gt;</th><th scope=col>&lt;int&gt;</th><th scope=col>&lt;dbl&gt;</th><th scope=col>&lt;dbl&gt;</th><th scope=col>&lt;fct&gt;</th><th scope=col>&lt;int&gt;</th></tr>\n",
       "</thead>\n",
       "<tbody>\n",
       "\t<tr><th scope=row>8991</th><td>6</td><td> 999</td><td>102</td><td>6_taxa.nzero_2</td><td>0.1</td><td>1000</td><td>2.018111e+13</td><td>0.623</td><td>AU_true</td><td>1</td></tr>\n",
       "\t<tr><th scope=row>8992</th><td>6</td><td>1000</td><td> 62</td><td>6_taxa.nzero_2</td><td>0.1</td><td>1000</td><td>2.018111e+13</td><td>0.335</td><td>AU_true</td><td>1</td></tr>\n",
       "\t<tr><th scope=row>8993</th><td>6</td><td>1000</td><td> 64</td><td>6_taxa.nzero_2</td><td>0.1</td><td>1000</td><td>2.018111e+13</td><td>0.133</td><td>AU_true</td><td>1</td></tr>\n",
       "\t<tr><th scope=row>8994</th><td>6</td><td>1000</td><td> 65</td><td>6_taxa.nzero_2</td><td>0.1</td><td>1000</td><td>2.018111e+13</td><td>0.293</td><td>AU_true</td><td>1</td></tr>\n",
       "\t<tr><th scope=row>8995</th><td>6</td><td>1000</td><td> 67</td><td>6_taxa.nzero_2</td><td>0.1</td><td>1000</td><td>2.018111e+13</td><td>0.416</td><td>AU_true</td><td>1</td></tr>\n",
       "\t<tr><th scope=row>8996</th><td>6</td><td>1000</td><td> 86</td><td>6_taxa.nzero_2</td><td>0.1</td><td>1000</td><td>2.018111e+13</td><td>0.178</td><td>AU_true</td><td>1</td></tr>\n",
       "\t<tr><th scope=row>8997</th><td>6</td><td>1000</td><td> 87</td><td>6_taxa.nzero_2</td><td>0.1</td><td>1000</td><td>2.018111e+13</td><td>0.518</td><td>AU_true</td><td>1</td></tr>\n",
       "\t<tr><th scope=row>8998</th><td>6</td><td>1000</td><td> 92</td><td>6_taxa.nzero_2</td><td>0.1</td><td>1000</td><td>2.018111e+13</td><td>0.649</td><td>AU_true</td><td>1</td></tr>\n",
       "\t<tr><th scope=row>8999</th><td>6</td><td>1000</td><td> 96</td><td>6_taxa.nzero_2</td><td>0.1</td><td>1000</td><td>2.018111e+13</td><td>0.570</td><td>AU_true</td><td>1</td></tr>\n",
       "\t<tr><th scope=row>9000</th><td>6</td><td>1000</td><td>102</td><td>6_taxa.nzero_2</td><td>0.1</td><td>1000</td><td>2.018111e+13</td><td>0.237</td><td>AU_true</td><td>1</td></tr>\n",
       "</tbody>\n",
       "</table>\n"
      ],
      "text/latex": [
       "A data.frame: 10 × 10\n",
       "\\begin{tabular}{r|llllllllll}\n",
       "  & taxa & sim.index & tree.index & tree.type & internal.el & nsim & instanceRun & p.value & test & true.set\\\\\n",
       "  & <int> & <int> & <int> & <fct> & <dbl> & <int> & <dbl> & <dbl> & <fct> & <int>\\\\\n",
       "\\hline\n",
       "\t8991 & 6 &  999 & 102 & 6\\_taxa.nzero\\_2 & 0.1 & 1000 & 2.018111e+13 & 0.623 & AU\\_true & 1\\\\\n",
       "\t8992 & 6 & 1000 &  62 & 6\\_taxa.nzero\\_2 & 0.1 & 1000 & 2.018111e+13 & 0.335 & AU\\_true & 1\\\\\n",
       "\t8993 & 6 & 1000 &  64 & 6\\_taxa.nzero\\_2 & 0.1 & 1000 & 2.018111e+13 & 0.133 & AU\\_true & 1\\\\\n",
       "\t8994 & 6 & 1000 &  65 & 6\\_taxa.nzero\\_2 & 0.1 & 1000 & 2.018111e+13 & 0.293 & AU\\_true & 1\\\\\n",
       "\t8995 & 6 & 1000 &  67 & 6\\_taxa.nzero\\_2 & 0.1 & 1000 & 2.018111e+13 & 0.416 & AU\\_true & 1\\\\\n",
       "\t8996 & 6 & 1000 &  86 & 6\\_taxa.nzero\\_2 & 0.1 & 1000 & 2.018111e+13 & 0.178 & AU\\_true & 1\\\\\n",
       "\t8997 & 6 & 1000 &  87 & 6\\_taxa.nzero\\_2 & 0.1 & 1000 & 2.018111e+13 & 0.518 & AU\\_true & 1\\\\\n",
       "\t8998 & 6 & 1000 &  92 & 6\\_taxa.nzero\\_2 & 0.1 & 1000 & 2.018111e+13 & 0.649 & AU\\_true & 1\\\\\n",
       "\t8999 & 6 & 1000 &  96 & 6\\_taxa.nzero\\_2 & 0.1 & 1000 & 2.018111e+13 & 0.570 & AU\\_true & 1\\\\\n",
       "\t9000 & 6 & 1000 & 102 & 6\\_taxa.nzero\\_2 & 0.1 & 1000 & 2.018111e+13 & 0.237 & AU\\_true & 1\\\\\n",
       "\\end{tabular}\n"
      ],
      "text/markdown": [
       "\n",
       "A data.frame: 10 × 10\n",
       "\n",
       "| <!--/--> | taxa &lt;int&gt; | sim.index &lt;int&gt; | tree.index &lt;int&gt; | tree.type &lt;fct&gt; | internal.el &lt;dbl&gt; | nsim &lt;int&gt; | instanceRun &lt;dbl&gt; | p.value &lt;dbl&gt; | test &lt;fct&gt; | true.set &lt;int&gt; |\n",
       "|---|---|---|---|---|---|---|---|---|---|---|\n",
       "| 8991 | 6 |  999 | 102 | 6_taxa.nzero_2 | 0.1 | 1000 | 2.018111e+13 | 0.623 | AU_true | 1 |\n",
       "| 8992 | 6 | 1000 |  62 | 6_taxa.nzero_2 | 0.1 | 1000 | 2.018111e+13 | 0.335 | AU_true | 1 |\n",
       "| 8993 | 6 | 1000 |  64 | 6_taxa.nzero_2 | 0.1 | 1000 | 2.018111e+13 | 0.133 | AU_true | 1 |\n",
       "| 8994 | 6 | 1000 |  65 | 6_taxa.nzero_2 | 0.1 | 1000 | 2.018111e+13 | 0.293 | AU_true | 1 |\n",
       "| 8995 | 6 | 1000 |  67 | 6_taxa.nzero_2 | 0.1 | 1000 | 2.018111e+13 | 0.416 | AU_true | 1 |\n",
       "| 8996 | 6 | 1000 |  86 | 6_taxa.nzero_2 | 0.1 | 1000 | 2.018111e+13 | 0.178 | AU_true | 1 |\n",
       "| 8997 | 6 | 1000 |  87 | 6_taxa.nzero_2 | 0.1 | 1000 | 2.018111e+13 | 0.518 | AU_true | 1 |\n",
       "| 8998 | 6 | 1000 |  92 | 6_taxa.nzero_2 | 0.1 | 1000 | 2.018111e+13 | 0.649 | AU_true | 1 |\n",
       "| 8999 | 6 | 1000 |  96 | 6_taxa.nzero_2 | 0.1 | 1000 | 2.018111e+13 | 0.570 | AU_true | 1 |\n",
       "| 9000 | 6 | 1000 | 102 | 6_taxa.nzero_2 | 0.1 | 1000 | 2.018111e+13 | 0.237 | AU_true | 1 |\n",
       "\n"
      ],
      "text/plain": [
       "     taxa sim.index tree.index tree.type      internal.el nsim instanceRun \n",
       "8991 6     999      102        6_taxa.nzero_2 0.1         1000 2.018111e+13\n",
       "8992 6    1000       62        6_taxa.nzero_2 0.1         1000 2.018111e+13\n",
       "8993 6    1000       64        6_taxa.nzero_2 0.1         1000 2.018111e+13\n",
       "8994 6    1000       65        6_taxa.nzero_2 0.1         1000 2.018111e+13\n",
       "8995 6    1000       67        6_taxa.nzero_2 0.1         1000 2.018111e+13\n",
       "8996 6    1000       86        6_taxa.nzero_2 0.1         1000 2.018111e+13\n",
       "8997 6    1000       87        6_taxa.nzero_2 0.1         1000 2.018111e+13\n",
       "8998 6    1000       92        6_taxa.nzero_2 0.1         1000 2.018111e+13\n",
       "8999 6    1000       96        6_taxa.nzero_2 0.1         1000 2.018111e+13\n",
       "9000 6    1000      102        6_taxa.nzero_2 0.1         1000 2.018111e+13\n",
       "     p.value test    true.set\n",
       "8991 0.623   AU_true 1       \n",
       "8992 0.335   AU_true 1       \n",
       "8993 0.133   AU_true 1       \n",
       "8994 0.293   AU_true 1       \n",
       "8995 0.416   AU_true 1       \n",
       "8996 0.178   AU_true 1       \n",
       "8997 0.518   AU_true 1       \n",
       "8998 0.649   AU_true 1       \n",
       "8999 0.570   AU_true 1       \n",
       "9000 0.237   AU_true 1       "
      ]
     },
     "metadata": {},
     "output_type": "display_data"
    }
   ],
   "source": [
    "tail(df_tmp,10)"
   ]
  },
  {
   "cell_type": "code",
   "execution_count": 78,
   "metadata": {},
   "outputs": [],
   "source": [
    "nsim <- mean(df_tmp$nsim) # extracting number of simulations from data\n",
    "taxa <- mean(df_tmp$taxa) # extracting the taxa (6 or 8)\n",
    "ntrue <- sum(df_tmp$true.set) # extracting number of true trees\n",
    "\n",
    "# setting the probability we want above which a tree will be included in the confidence set (CS)\n",
    "probability.threshold <- 0.05 "
   ]
  },
  {
   "cell_type": "markdown",
   "metadata": {},
   "source": [
    "Define $$p_j= \\text{long-run proportion of } C_b \\text{ with } j\\in C_b \\tag{1}$$"
   ]
  },
  {
   "cell_type": "code",
   "execution_count": 79,
   "metadata": {},
   "outputs": [],
   "source": [
    "# adding a column for the individual tree index probability to be in the CS\n",
    "df_tmp$p.i <- as.numeric(df_tmp$p.value > probability.threshold)"
   ]
  },
  {
   "cell_type": "code",
   "execution_count": 80,
   "metadata": {},
   "outputs": [
    {
     "data": {
      "text/html": [
       "105"
      ],
      "text/latex": [
       "105"
      ],
      "text/markdown": [
       "105"
      ],
      "text/plain": [
       "[1] 105"
      ]
     },
     "metadata": {},
     "output_type": "display_data"
    }
   ],
   "source": [
    "# defining a function to determine the number of possible trees, for later iterations:\n",
    "number_of_possible_trees <- function(taxa){\n",
    "    b <- factorial(2*taxa - 5)/(factorial(taxa - 3)*2^(taxa - 3))\n",
    "    return(b)\n",
    "}\n",
    "\n",
    "number_of_possible_trees(taxa)"
   ]
  },
  {
   "cell_type": "code",
   "execution_count": 81,
   "metadata": {},
   "outputs": [],
   "source": [
    "# preparing for loop:\n",
    "upper_limit <- number_of_possible_trees(taxa)\n",
    "\n",
    "cov_tmp <- data.frame(\n",
    "  tree.type=character(),\n",
    "  internal.el=integer(),\n",
    "  test=character(),\n",
    "  tree_i=integer(), \n",
    "  tree_j=integer(),\n",
    "  p.i=double(),\n",
    "  p.j=double(),\n",
    "  p.ij=double(),\n",
    "  stringsAsFactors=FALSE\n",
    ")"
   ]
  },
  {
   "cell_type": "code",
   "execution_count": 82,
   "metadata": {},
   "outputs": [
    {
     "name": "stdout",
     "output_type": "stream",
     "text": [
      "[1] \"2020-08-31 14:32:38 PDT\"\n"
     ]
    }
   ],
   "source": [
    "# printing timestamp start\n",
    "print(Sys.time())"
   ]
  },
  {
   "cell_type": "markdown",
   "metadata": {},
   "source": [
    "$$p_{ij}= \\text{long-run proportion of } C_b \\text{ with both } i,j\\in C_b \\tag{2}$$"
   ]
  },
  {
   "cell_type": "code",
   "execution_count": 83,
   "metadata": {},
   "outputs": [],
   "source": [
    "# main loop to check for correlation between every combination of trees:\n",
    "k <- 1\n",
    "for (tree_i in c(1:(upper_limit-1))){\n",
    "    if(tree_i %in% unique(df_tmp$tree.index)){\n",
    "      lower_limit <- tree_i + 1\n",
    "      tmp.p.i <- sum(df_tmp %>% filter(tree.index==tree_i) %>% select(p.i))/nsim\n",
    "      for (tree_j in c(lower_limit:upper_limit)){\n",
    "          if(tree_j %in% unique(df_tmp$tree.index)) {\n",
    "            tmp.p.j <- sum(df_tmp %>% filter(tree.index==tree_j) %>% select(p.i))/nsim\n",
    "            tmp.p.ij <- as.double((df_tmp %>% \n",
    "                            filter((tree.index==tree_i & p.i == 1) | (tree.index==tree_j & p.i == 1)) %>% \n",
    "                            group_by(sim.index) %>% \n",
    "                            summarize(n=n()) %>%\n",
    "                            # already filtered out on either one of them in the set, so 0 isn't possible, \n",
    "                            # so we're safe to assume the possible values here are 1 or 2. \n",
    "                            # Using a minus 1 logic to determine of they're both in the set:\n",
    "                            mutate(n=n-1) %>% summarize(sum(n)))/nsim) \n",
    "            cov_tmp[k,] <- list('6_taxa.nzero_2', 0.1, 'AU_true', tree_i, tree_j, tmp.p.i, tmp.p.j, tmp.p.ij)\n",
    "            k <- k + 1\n",
    "          }\n",
    "      }\n",
    "    }\n",
    "}"
   ]
  },
  {
   "cell_type": "code",
   "execution_count": 84,
   "metadata": {},
   "outputs": [
    {
     "name": "stdout",
     "output_type": "stream",
     "text": [
      "[1] \"2020-08-31 14:32:41 PDT\"\n",
      "[1] \"done 0.999111111111111 0.999113439991958 NA\"\n"
     ]
    }
   ],
   "source": [
    "# printing timestamp done\n",
    "print(Sys.time())\n",
    "print(paste(\"done\", C, CI[1], C[2]))"
   ]
  },
  {
   "cell_type": "code",
   "execution_count": 86,
   "metadata": {},
   "outputs": [
    {
     "data": {
      "text/html": [
       "36"
      ],
      "text/latex": [
       "36"
      ],
      "text/markdown": [
       "36"
      ],
      "text/plain": [
       "[1] 36"
      ]
     },
     "metadata": {},
     "output_type": "display_data"
    }
   ],
   "source": [
    "# we expect to find 9 (true trees) choose 2 rows = 36\n",
    "nrow(cov_tmp)"
   ]
  },
  {
   "cell_type": "code",
   "execution_count": 87,
   "metadata": {},
   "outputs": [
    {
     "data": {
      "text/html": [
       "<table>\n",
       "<caption>A data.frame: 15 × 8</caption>\n",
       "<thead>\n",
       "\t<tr><th></th><th scope=col>tree.type</th><th scope=col>internal.el</th><th scope=col>test</th><th scope=col>tree_i</th><th scope=col>tree_j</th><th scope=col>p.i</th><th scope=col>p.j</th><th scope=col>p.ij</th></tr>\n",
       "\t<tr><th></th><th scope=col>&lt;chr&gt;</th><th scope=col>&lt;dbl&gt;</th><th scope=col>&lt;chr&gt;</th><th scope=col>&lt;int&gt;</th><th scope=col>&lt;int&gt;</th><th scope=col>&lt;dbl&gt;</th><th scope=col>&lt;dbl&gt;</th><th scope=col>&lt;dbl&gt;</th></tr>\n",
       "</thead>\n",
       "<tbody>\n",
       "\t<tr><th scope=row>1</th><td>6_taxa.nzero_2</td><td>0.1</td><td>AU_true</td><td>62</td><td> 64</td><td>0.998</td><td>0.999</td><td>0.997</td></tr>\n",
       "\t<tr><th scope=row>2</th><td>6_taxa.nzero_2</td><td>0.1</td><td>AU_true</td><td>62</td><td> 65</td><td>0.998</td><td>1.000</td><td>0.998</td></tr>\n",
       "\t<tr><th scope=row>3</th><td>6_taxa.nzero_2</td><td>0.1</td><td>AU_true</td><td>62</td><td> 67</td><td>0.998</td><td>1.000</td><td>0.998</td></tr>\n",
       "\t<tr><th scope=row>4</th><td>6_taxa.nzero_2</td><td>0.1</td><td>AU_true</td><td>62</td><td> 86</td><td>0.998</td><td>0.999</td><td>0.997</td></tr>\n",
       "\t<tr><th scope=row>5</th><td>6_taxa.nzero_2</td><td>0.1</td><td>AU_true</td><td>62</td><td> 87</td><td>0.998</td><td>0.996</td><td>0.995</td></tr>\n",
       "\t<tr><th scope=row>6</th><td>6_taxa.nzero_2</td><td>0.1</td><td>AU_true</td><td>62</td><td> 92</td><td>0.998</td><td>1.000</td><td>0.998</td></tr>\n",
       "\t<tr><th scope=row>7</th><td>6_taxa.nzero_2</td><td>0.1</td><td>AU_true</td><td>62</td><td> 96</td><td>0.998</td><td>1.000</td><td>0.998</td></tr>\n",
       "\t<tr><th scope=row>8</th><td>6_taxa.nzero_2</td><td>0.1</td><td>AU_true</td><td>62</td><td>102</td><td>0.998</td><td>1.000</td><td>0.998</td></tr>\n",
       "\t<tr><th scope=row>9</th><td>6_taxa.nzero_2</td><td>0.1</td><td>AU_true</td><td>64</td><td> 65</td><td>0.999</td><td>1.000</td><td>0.999</td></tr>\n",
       "\t<tr><th scope=row>10</th><td>6_taxa.nzero_2</td><td>0.1</td><td>AU_true</td><td>64</td><td> 67</td><td>0.999</td><td>1.000</td><td>0.999</td></tr>\n",
       "\t<tr><th scope=row>11</th><td>6_taxa.nzero_2</td><td>0.1</td><td>AU_true</td><td>64</td><td> 86</td><td>0.999</td><td>0.999</td><td>0.998</td></tr>\n",
       "\t<tr><th scope=row>12</th><td>6_taxa.nzero_2</td><td>0.1</td><td>AU_true</td><td>64</td><td> 87</td><td>0.999</td><td>0.996</td><td>0.995</td></tr>\n",
       "\t<tr><th scope=row>13</th><td>6_taxa.nzero_2</td><td>0.1</td><td>AU_true</td><td>64</td><td> 92</td><td>0.999</td><td>1.000</td><td>0.999</td></tr>\n",
       "\t<tr><th scope=row>14</th><td>6_taxa.nzero_2</td><td>0.1</td><td>AU_true</td><td>64</td><td> 96</td><td>0.999</td><td>1.000</td><td>0.999</td></tr>\n",
       "\t<tr><th scope=row>15</th><td>6_taxa.nzero_2</td><td>0.1</td><td>AU_true</td><td>64</td><td>102</td><td>0.999</td><td>1.000</td><td>0.999</td></tr>\n",
       "</tbody>\n",
       "</table>\n"
      ],
      "text/latex": [
       "A data.frame: 15 × 8\n",
       "\\begin{tabular}{r|llllllll}\n",
       "  & tree.type & internal.el & test & tree\\_i & tree\\_j & p.i & p.j & p.ij\\\\\n",
       "  & <chr> & <dbl> & <chr> & <int> & <int> & <dbl> & <dbl> & <dbl>\\\\\n",
       "\\hline\n",
       "\t1 & 6\\_taxa.nzero\\_2 & 0.1 & AU\\_true & 62 &  64 & 0.998 & 0.999 & 0.997\\\\\n",
       "\t2 & 6\\_taxa.nzero\\_2 & 0.1 & AU\\_true & 62 &  65 & 0.998 & 1.000 & 0.998\\\\\n",
       "\t3 & 6\\_taxa.nzero\\_2 & 0.1 & AU\\_true & 62 &  67 & 0.998 & 1.000 & 0.998\\\\\n",
       "\t4 & 6\\_taxa.nzero\\_2 & 0.1 & AU\\_true & 62 &  86 & 0.998 & 0.999 & 0.997\\\\\n",
       "\t5 & 6\\_taxa.nzero\\_2 & 0.1 & AU\\_true & 62 &  87 & 0.998 & 0.996 & 0.995\\\\\n",
       "\t6 & 6\\_taxa.nzero\\_2 & 0.1 & AU\\_true & 62 &  92 & 0.998 & 1.000 & 0.998\\\\\n",
       "\t7 & 6\\_taxa.nzero\\_2 & 0.1 & AU\\_true & 62 &  96 & 0.998 & 1.000 & 0.998\\\\\n",
       "\t8 & 6\\_taxa.nzero\\_2 & 0.1 & AU\\_true & 62 & 102 & 0.998 & 1.000 & 0.998\\\\\n",
       "\t9 & 6\\_taxa.nzero\\_2 & 0.1 & AU\\_true & 64 &  65 & 0.999 & 1.000 & 0.999\\\\\n",
       "\t10 & 6\\_taxa.nzero\\_2 & 0.1 & AU\\_true & 64 &  67 & 0.999 & 1.000 & 0.999\\\\\n",
       "\t11 & 6\\_taxa.nzero\\_2 & 0.1 & AU\\_true & 64 &  86 & 0.999 & 0.999 & 0.998\\\\\n",
       "\t12 & 6\\_taxa.nzero\\_2 & 0.1 & AU\\_true & 64 &  87 & 0.999 & 0.996 & 0.995\\\\\n",
       "\t13 & 6\\_taxa.nzero\\_2 & 0.1 & AU\\_true & 64 &  92 & 0.999 & 1.000 & 0.999\\\\\n",
       "\t14 & 6\\_taxa.nzero\\_2 & 0.1 & AU\\_true & 64 &  96 & 0.999 & 1.000 & 0.999\\\\\n",
       "\t15 & 6\\_taxa.nzero\\_2 & 0.1 & AU\\_true & 64 & 102 & 0.999 & 1.000 & 0.999\\\\\n",
       "\\end{tabular}\n"
      ],
      "text/markdown": [
       "\n",
       "A data.frame: 15 × 8\n",
       "\n",
       "| <!--/--> | tree.type &lt;chr&gt; | internal.el &lt;dbl&gt; | test &lt;chr&gt; | tree_i &lt;int&gt; | tree_j &lt;int&gt; | p.i &lt;dbl&gt; | p.j &lt;dbl&gt; | p.ij &lt;dbl&gt; |\n",
       "|---|---|---|---|---|---|---|---|---|\n",
       "| 1 | 6_taxa.nzero_2 | 0.1 | AU_true | 62 |  64 | 0.998 | 0.999 | 0.997 |\n",
       "| 2 | 6_taxa.nzero_2 | 0.1 | AU_true | 62 |  65 | 0.998 | 1.000 | 0.998 |\n",
       "| 3 | 6_taxa.nzero_2 | 0.1 | AU_true | 62 |  67 | 0.998 | 1.000 | 0.998 |\n",
       "| 4 | 6_taxa.nzero_2 | 0.1 | AU_true | 62 |  86 | 0.998 | 0.999 | 0.997 |\n",
       "| 5 | 6_taxa.nzero_2 | 0.1 | AU_true | 62 |  87 | 0.998 | 0.996 | 0.995 |\n",
       "| 6 | 6_taxa.nzero_2 | 0.1 | AU_true | 62 |  92 | 0.998 | 1.000 | 0.998 |\n",
       "| 7 | 6_taxa.nzero_2 | 0.1 | AU_true | 62 |  96 | 0.998 | 1.000 | 0.998 |\n",
       "| 8 | 6_taxa.nzero_2 | 0.1 | AU_true | 62 | 102 | 0.998 | 1.000 | 0.998 |\n",
       "| 9 | 6_taxa.nzero_2 | 0.1 | AU_true | 64 |  65 | 0.999 | 1.000 | 0.999 |\n",
       "| 10 | 6_taxa.nzero_2 | 0.1 | AU_true | 64 |  67 | 0.999 | 1.000 | 0.999 |\n",
       "| 11 | 6_taxa.nzero_2 | 0.1 | AU_true | 64 |  86 | 0.999 | 0.999 | 0.998 |\n",
       "| 12 | 6_taxa.nzero_2 | 0.1 | AU_true | 64 |  87 | 0.999 | 0.996 | 0.995 |\n",
       "| 13 | 6_taxa.nzero_2 | 0.1 | AU_true | 64 |  92 | 0.999 | 1.000 | 0.999 |\n",
       "| 14 | 6_taxa.nzero_2 | 0.1 | AU_true | 64 |  96 | 0.999 | 1.000 | 0.999 |\n",
       "| 15 | 6_taxa.nzero_2 | 0.1 | AU_true | 64 | 102 | 0.999 | 1.000 | 0.999 |\n",
       "\n"
      ],
      "text/plain": [
       "   tree.type      internal.el test    tree_i tree_j p.i   p.j   p.ij \n",
       "1  6_taxa.nzero_2 0.1         AU_true 62      64    0.998 0.999 0.997\n",
       "2  6_taxa.nzero_2 0.1         AU_true 62      65    0.998 1.000 0.998\n",
       "3  6_taxa.nzero_2 0.1         AU_true 62      67    0.998 1.000 0.998\n",
       "4  6_taxa.nzero_2 0.1         AU_true 62      86    0.998 0.999 0.997\n",
       "5  6_taxa.nzero_2 0.1         AU_true 62      87    0.998 0.996 0.995\n",
       "6  6_taxa.nzero_2 0.1         AU_true 62      92    0.998 1.000 0.998\n",
       "7  6_taxa.nzero_2 0.1         AU_true 62      96    0.998 1.000 0.998\n",
       "8  6_taxa.nzero_2 0.1         AU_true 62     102    0.998 1.000 0.998\n",
       "9  6_taxa.nzero_2 0.1         AU_true 64      65    0.999 1.000 0.999\n",
       "10 6_taxa.nzero_2 0.1         AU_true 64      67    0.999 1.000 0.999\n",
       "11 6_taxa.nzero_2 0.1         AU_true 64      86    0.999 0.999 0.998\n",
       "12 6_taxa.nzero_2 0.1         AU_true 64      87    0.999 0.996 0.995\n",
       "13 6_taxa.nzero_2 0.1         AU_true 64      92    0.999 1.000 0.999\n",
       "14 6_taxa.nzero_2 0.1         AU_true 64      96    0.999 1.000 0.999\n",
       "15 6_taxa.nzero_2 0.1         AU_true 64     102    0.999 1.000 0.999"
      ]
     },
     "metadata": {},
     "output_type": "display_data"
    }
   ],
   "source": [
    "# spot checking data\n",
    "head(cov_tmp[cov_tmp$p.i > 0,], 15)"
   ]
  },
  {
   "cell_type": "markdown",
   "metadata": {},
   "source": [
    "Then the covariance \n",
    "\n",
    "\n",
    "$$Cov[\\delta_{jb},\\delta_{ib}]=p_{ij}-p_ip_j \\tag{3}$$"
   ]
  },
  {
   "cell_type": "code",
   "execution_count": 88,
   "metadata": {},
   "outputs": [],
   "source": [
    "cov_tmp <- cov_tmp %>% mutate(cov = p.ij - p.i*p.j)"
   ]
  },
  {
   "cell_type": "markdown",
   "metadata": {},
   "source": [
    "$$Var[\\delta_{jB}]=p_j(1-p_j) \\tag{4}$$"
   ]
  },
  {
   "cell_type": "code",
   "execution_count": 89,
   "metadata": {},
   "outputs": [],
   "source": [
    "cov_tmp <- cov_tmp %>% mutate(var.i = p.i*(1 - p.i))"
   ]
  },
  {
   "cell_type": "code",
   "execution_count": 90,
   "metadata": {},
   "outputs": [
    {
     "data": {
      "text/html": [
       "<table>\n",
       "<caption>A data.frame: 15 × 10</caption>\n",
       "<thead>\n",
       "\t<tr><th></th><th scope=col>tree.type</th><th scope=col>internal.el</th><th scope=col>test</th><th scope=col>tree_i</th><th scope=col>tree_j</th><th scope=col>p.i</th><th scope=col>p.j</th><th scope=col>p.ij</th><th scope=col>cov</th><th scope=col>var.i</th></tr>\n",
       "\t<tr><th></th><th scope=col>&lt;chr&gt;</th><th scope=col>&lt;dbl&gt;</th><th scope=col>&lt;chr&gt;</th><th scope=col>&lt;int&gt;</th><th scope=col>&lt;int&gt;</th><th scope=col>&lt;dbl&gt;</th><th scope=col>&lt;dbl&gt;</th><th scope=col>&lt;dbl&gt;</th><th scope=col>&lt;dbl&gt;</th><th scope=col>&lt;dbl&gt;</th></tr>\n",
       "</thead>\n",
       "<tbody>\n",
       "\t<tr><th scope=row>1</th><td>6_taxa.nzero_2</td><td>0.1</td><td>AU_true</td><td>62</td><td> 64</td><td>0.998</td><td>0.999</td><td>0.997</td><td>-0.000002</td><td>0.001996</td></tr>\n",
       "\t<tr><th scope=row>2</th><td>6_taxa.nzero_2</td><td>0.1</td><td>AU_true</td><td>62</td><td> 65</td><td>0.998</td><td>1.000</td><td>0.998</td><td> 0.000000</td><td>0.001996</td></tr>\n",
       "\t<tr><th scope=row>3</th><td>6_taxa.nzero_2</td><td>0.1</td><td>AU_true</td><td>62</td><td> 67</td><td>0.998</td><td>1.000</td><td>0.998</td><td> 0.000000</td><td>0.001996</td></tr>\n",
       "\t<tr><th scope=row>4</th><td>6_taxa.nzero_2</td><td>0.1</td><td>AU_true</td><td>62</td><td> 86</td><td>0.998</td><td>0.999</td><td>0.997</td><td>-0.000002</td><td>0.001996</td></tr>\n",
       "\t<tr><th scope=row>5</th><td>6_taxa.nzero_2</td><td>0.1</td><td>AU_true</td><td>62</td><td> 87</td><td>0.998</td><td>0.996</td><td>0.995</td><td> 0.000992</td><td>0.001996</td></tr>\n",
       "\t<tr><th scope=row>6</th><td>6_taxa.nzero_2</td><td>0.1</td><td>AU_true</td><td>62</td><td> 92</td><td>0.998</td><td>1.000</td><td>0.998</td><td> 0.000000</td><td>0.001996</td></tr>\n",
       "\t<tr><th scope=row>7</th><td>6_taxa.nzero_2</td><td>0.1</td><td>AU_true</td><td>62</td><td> 96</td><td>0.998</td><td>1.000</td><td>0.998</td><td> 0.000000</td><td>0.001996</td></tr>\n",
       "\t<tr><th scope=row>8</th><td>6_taxa.nzero_2</td><td>0.1</td><td>AU_true</td><td>62</td><td>102</td><td>0.998</td><td>1.000</td><td>0.998</td><td> 0.000000</td><td>0.001996</td></tr>\n",
       "\t<tr><th scope=row>9</th><td>6_taxa.nzero_2</td><td>0.1</td><td>AU_true</td><td>64</td><td> 65</td><td>0.999</td><td>1.000</td><td>0.999</td><td> 0.000000</td><td>0.000999</td></tr>\n",
       "\t<tr><th scope=row>10</th><td>6_taxa.nzero_2</td><td>0.1</td><td>AU_true</td><td>64</td><td> 67</td><td>0.999</td><td>1.000</td><td>0.999</td><td> 0.000000</td><td>0.000999</td></tr>\n",
       "\t<tr><th scope=row>11</th><td>6_taxa.nzero_2</td><td>0.1</td><td>AU_true</td><td>64</td><td> 86</td><td>0.999</td><td>0.999</td><td>0.998</td><td>-0.000001</td><td>0.000999</td></tr>\n",
       "\t<tr><th scope=row>12</th><td>6_taxa.nzero_2</td><td>0.1</td><td>AU_true</td><td>64</td><td> 87</td><td>0.999</td><td>0.996</td><td>0.995</td><td>-0.000004</td><td>0.000999</td></tr>\n",
       "\t<tr><th scope=row>13</th><td>6_taxa.nzero_2</td><td>0.1</td><td>AU_true</td><td>64</td><td> 92</td><td>0.999</td><td>1.000</td><td>0.999</td><td> 0.000000</td><td>0.000999</td></tr>\n",
       "\t<tr><th scope=row>14</th><td>6_taxa.nzero_2</td><td>0.1</td><td>AU_true</td><td>64</td><td> 96</td><td>0.999</td><td>1.000</td><td>0.999</td><td> 0.000000</td><td>0.000999</td></tr>\n",
       "\t<tr><th scope=row>15</th><td>6_taxa.nzero_2</td><td>0.1</td><td>AU_true</td><td>64</td><td>102</td><td>0.999</td><td>1.000</td><td>0.999</td><td> 0.000000</td><td>0.000999</td></tr>\n",
       "</tbody>\n",
       "</table>\n"
      ],
      "text/latex": [
       "A data.frame: 15 × 10\n",
       "\\begin{tabular}{r|llllllllll}\n",
       "  & tree.type & internal.el & test & tree\\_i & tree\\_j & p.i & p.j & p.ij & cov & var.i\\\\\n",
       "  & <chr> & <dbl> & <chr> & <int> & <int> & <dbl> & <dbl> & <dbl> & <dbl> & <dbl>\\\\\n",
       "\\hline\n",
       "\t1 & 6\\_taxa.nzero\\_2 & 0.1 & AU\\_true & 62 &  64 & 0.998 & 0.999 & 0.997 & -0.000002 & 0.001996\\\\\n",
       "\t2 & 6\\_taxa.nzero\\_2 & 0.1 & AU\\_true & 62 &  65 & 0.998 & 1.000 & 0.998 &  0.000000 & 0.001996\\\\\n",
       "\t3 & 6\\_taxa.nzero\\_2 & 0.1 & AU\\_true & 62 &  67 & 0.998 & 1.000 & 0.998 &  0.000000 & 0.001996\\\\\n",
       "\t4 & 6\\_taxa.nzero\\_2 & 0.1 & AU\\_true & 62 &  86 & 0.998 & 0.999 & 0.997 & -0.000002 & 0.001996\\\\\n",
       "\t5 & 6\\_taxa.nzero\\_2 & 0.1 & AU\\_true & 62 &  87 & 0.998 & 0.996 & 0.995 &  0.000992 & 0.001996\\\\\n",
       "\t6 & 6\\_taxa.nzero\\_2 & 0.1 & AU\\_true & 62 &  92 & 0.998 & 1.000 & 0.998 &  0.000000 & 0.001996\\\\\n",
       "\t7 & 6\\_taxa.nzero\\_2 & 0.1 & AU\\_true & 62 &  96 & 0.998 & 1.000 & 0.998 &  0.000000 & 0.001996\\\\\n",
       "\t8 & 6\\_taxa.nzero\\_2 & 0.1 & AU\\_true & 62 & 102 & 0.998 & 1.000 & 0.998 &  0.000000 & 0.001996\\\\\n",
       "\t9 & 6\\_taxa.nzero\\_2 & 0.1 & AU\\_true & 64 &  65 & 0.999 & 1.000 & 0.999 &  0.000000 & 0.000999\\\\\n",
       "\t10 & 6\\_taxa.nzero\\_2 & 0.1 & AU\\_true & 64 &  67 & 0.999 & 1.000 & 0.999 &  0.000000 & 0.000999\\\\\n",
       "\t11 & 6\\_taxa.nzero\\_2 & 0.1 & AU\\_true & 64 &  86 & 0.999 & 0.999 & 0.998 & -0.000001 & 0.000999\\\\\n",
       "\t12 & 6\\_taxa.nzero\\_2 & 0.1 & AU\\_true & 64 &  87 & 0.999 & 0.996 & 0.995 & -0.000004 & 0.000999\\\\\n",
       "\t13 & 6\\_taxa.nzero\\_2 & 0.1 & AU\\_true & 64 &  92 & 0.999 & 1.000 & 0.999 &  0.000000 & 0.000999\\\\\n",
       "\t14 & 6\\_taxa.nzero\\_2 & 0.1 & AU\\_true & 64 &  96 & 0.999 & 1.000 & 0.999 &  0.000000 & 0.000999\\\\\n",
       "\t15 & 6\\_taxa.nzero\\_2 & 0.1 & AU\\_true & 64 & 102 & 0.999 & 1.000 & 0.999 &  0.000000 & 0.000999\\\\\n",
       "\\end{tabular}\n"
      ],
      "text/markdown": [
       "\n",
       "A data.frame: 15 × 10\n",
       "\n",
       "| <!--/--> | tree.type &lt;chr&gt; | internal.el &lt;dbl&gt; | test &lt;chr&gt; | tree_i &lt;int&gt; | tree_j &lt;int&gt; | p.i &lt;dbl&gt; | p.j &lt;dbl&gt; | p.ij &lt;dbl&gt; | cov &lt;dbl&gt; | var.i &lt;dbl&gt; |\n",
       "|---|---|---|---|---|---|---|---|---|---|---|\n",
       "| 1 | 6_taxa.nzero_2 | 0.1 | AU_true | 62 |  64 | 0.998 | 0.999 | 0.997 | -0.000002 | 0.001996 |\n",
       "| 2 | 6_taxa.nzero_2 | 0.1 | AU_true | 62 |  65 | 0.998 | 1.000 | 0.998 |  0.000000 | 0.001996 |\n",
       "| 3 | 6_taxa.nzero_2 | 0.1 | AU_true | 62 |  67 | 0.998 | 1.000 | 0.998 |  0.000000 | 0.001996 |\n",
       "| 4 | 6_taxa.nzero_2 | 0.1 | AU_true | 62 |  86 | 0.998 | 0.999 | 0.997 | -0.000002 | 0.001996 |\n",
       "| 5 | 6_taxa.nzero_2 | 0.1 | AU_true | 62 |  87 | 0.998 | 0.996 | 0.995 |  0.000992 | 0.001996 |\n",
       "| 6 | 6_taxa.nzero_2 | 0.1 | AU_true | 62 |  92 | 0.998 | 1.000 | 0.998 |  0.000000 | 0.001996 |\n",
       "| 7 | 6_taxa.nzero_2 | 0.1 | AU_true | 62 |  96 | 0.998 | 1.000 | 0.998 |  0.000000 | 0.001996 |\n",
       "| 8 | 6_taxa.nzero_2 | 0.1 | AU_true | 62 | 102 | 0.998 | 1.000 | 0.998 |  0.000000 | 0.001996 |\n",
       "| 9 | 6_taxa.nzero_2 | 0.1 | AU_true | 64 |  65 | 0.999 | 1.000 | 0.999 |  0.000000 | 0.000999 |\n",
       "| 10 | 6_taxa.nzero_2 | 0.1 | AU_true | 64 |  67 | 0.999 | 1.000 | 0.999 |  0.000000 | 0.000999 |\n",
       "| 11 | 6_taxa.nzero_2 | 0.1 | AU_true | 64 |  86 | 0.999 | 0.999 | 0.998 | -0.000001 | 0.000999 |\n",
       "| 12 | 6_taxa.nzero_2 | 0.1 | AU_true | 64 |  87 | 0.999 | 0.996 | 0.995 | -0.000004 | 0.000999 |\n",
       "| 13 | 6_taxa.nzero_2 | 0.1 | AU_true | 64 |  92 | 0.999 | 1.000 | 0.999 |  0.000000 | 0.000999 |\n",
       "| 14 | 6_taxa.nzero_2 | 0.1 | AU_true | 64 |  96 | 0.999 | 1.000 | 0.999 |  0.000000 | 0.000999 |\n",
       "| 15 | 6_taxa.nzero_2 | 0.1 | AU_true | 64 | 102 | 0.999 | 1.000 | 0.999 |  0.000000 | 0.000999 |\n",
       "\n"
      ],
      "text/plain": [
       "   tree.type      internal.el test    tree_i tree_j p.i   p.j   p.ij  cov      \n",
       "1  6_taxa.nzero_2 0.1         AU_true 62      64    0.998 0.999 0.997 -0.000002\n",
       "2  6_taxa.nzero_2 0.1         AU_true 62      65    0.998 1.000 0.998  0.000000\n",
       "3  6_taxa.nzero_2 0.1         AU_true 62      67    0.998 1.000 0.998  0.000000\n",
       "4  6_taxa.nzero_2 0.1         AU_true 62      86    0.998 0.999 0.997 -0.000002\n",
       "5  6_taxa.nzero_2 0.1         AU_true 62      87    0.998 0.996 0.995  0.000992\n",
       "6  6_taxa.nzero_2 0.1         AU_true 62      92    0.998 1.000 0.998  0.000000\n",
       "7  6_taxa.nzero_2 0.1         AU_true 62      96    0.998 1.000 0.998  0.000000\n",
       "8  6_taxa.nzero_2 0.1         AU_true 62     102    0.998 1.000 0.998  0.000000\n",
       "9  6_taxa.nzero_2 0.1         AU_true 64      65    0.999 1.000 0.999  0.000000\n",
       "10 6_taxa.nzero_2 0.1         AU_true 64      67    0.999 1.000 0.999  0.000000\n",
       "11 6_taxa.nzero_2 0.1         AU_true 64      86    0.999 0.999 0.998 -0.000001\n",
       "12 6_taxa.nzero_2 0.1         AU_true 64      87    0.999 0.996 0.995 -0.000004\n",
       "13 6_taxa.nzero_2 0.1         AU_true 64      92    0.999 1.000 0.999  0.000000\n",
       "14 6_taxa.nzero_2 0.1         AU_true 64      96    0.999 1.000 0.999  0.000000\n",
       "15 6_taxa.nzero_2 0.1         AU_true 64     102    0.999 1.000 0.999  0.000000\n",
       "   var.i   \n",
       "1  0.001996\n",
       "2  0.001996\n",
       "3  0.001996\n",
       "4  0.001996\n",
       "5  0.001996\n",
       "6  0.001996\n",
       "7  0.001996\n",
       "8  0.001996\n",
       "9  0.000999\n",
       "10 0.000999\n",
       "11 0.000999\n",
       "12 0.000999\n",
       "13 0.000999\n",
       "14 0.000999\n",
       "15 0.000999"
      ]
     },
     "metadata": {},
     "output_type": "display_data"
    }
   ],
   "source": [
    "# spot checking data\n",
    "head(cov_tmp[cov_tmp$p.i > 0,], 15)"
   ]
  },
  {
   "cell_type": "markdown",
   "metadata": {},
   "source": [
    "$$\\sum_{j=1}^K Var[\\delta_{jb}]$$"
   ]
  },
  {
   "cell_type": "code",
   "execution_count": 91,
   "metadata": {},
   "outputs": [
    {
     "data": {
      "text/html": [
       "<table>\n",
       "<caption>A tibble: 1 × 1</caption>\n",
       "<thead>\n",
       "\t<tr><th scope=col>sum(var.delta)</th></tr>\n",
       "\t<tr><th scope=col>&lt;dbl&gt;</th></tr>\n",
       "</thead>\n",
       "<tbody>\n",
       "\t<tr><td>0.007978</td></tr>\n",
       "</tbody>\n",
       "</table>\n"
      ],
      "text/latex": [
       "A tibble: 1 × 1\n",
       "\\begin{tabular}{l}\n",
       " sum(var.delta)\\\\\n",
       " <dbl>\\\\\n",
       "\\hline\n",
       "\t 0.007978\\\\\n",
       "\\end{tabular}\n"
      ],
      "text/markdown": [
       "\n",
       "A tibble: 1 × 1\n",
       "\n",
       "| sum(var.delta) &lt;dbl&gt; |\n",
       "|---|\n",
       "| 0.007978 |\n",
       "\n"
      ],
      "text/plain": [
       "  sum(var.delta)\n",
       "1 0.007978      "
      ]
     },
     "metadata": {},
     "output_type": "display_data"
    }
   ],
   "source": [
    "var.delta <- cov_tmp %>% group_by(tree_i) %>% summarize(var.delta=mean(var.i)) %>% summarize(sum(var.delta))\n",
    "\n",
    "var.delta"
   ]
  },
  {
   "cell_type": "markdown",
   "metadata": {},
   "source": [
    "$$Var\\Big[\\sum_{j=1}^K\\delta_{jb}\\Big]=\\sum_{j=1}^K Var[\\delta_{jb}] + 2\\sum_{i<j}Cov[\\delta_{jb}, \\delta_{ib}] \\tag{5}$$\n",
    "\n",
    "\n",
    "$$Var[C]=Var\\Big[\\sum_{j=1}^K\\delta_{jb}\\Big]/(K^2B) \\tag{6}$$"
   ]
  },
  {
   "cell_type": "code",
   "execution_count": 92,
   "metadata": {},
   "outputs": [
    {
     "data": {
      "text/html": [
       "1.4735802469136e-13"
      ],
      "text/latex": [
       "1.4735802469136e-13"
      ],
      "text/markdown": [
       "1.4735802469136e-13"
      ],
      "text/plain": [
       "[1] 1.47358e-13"
      ]
     },
     "metadata": {},
     "output_type": "display_data"
    }
   ],
   "source": [
    "var.C <- as.double(( var.delta + 2*sum(cov_tmp$cov) )/(nsim*ntrue^2))\n",
    "\n",
    "var.C"
   ]
  },
  {
   "cell_type": "markdown",
   "metadata": {},
   "source": [
    "Let $C$ be the average coverage, then\n",
    "$$C=\\sum_{j=1}^K\\sum_{\\delta=1}^B\\delta_{jb}/(KB)$$ "
   ]
  },
  {
   "cell_type": "code",
   "execution_count": 93,
   "metadata": {},
   "outputs": [
    {
     "data": {
      "text/html": [
       "0.999111111111111"
      ],
      "text/latex": [
       "0.999111111111111"
      ],
      "text/markdown": [
       "0.999111111111111"
      ],
      "text/plain": [
       "[1] 0.9991111"
      ]
     },
     "metadata": {},
     "output_type": "display_data"
    }
   ],
   "source": [
    "C <- sum(df_tmp[df_tmp$true.set==1, 'p.i'])/sum(df_tmp$true.set) # the denominator here = 9000 includes both K*B\n",
    "\n",
    "C"
   ]
  },
  {
   "cell_type": "markdown",
   "metadata": {},
   "source": [
    "Logistic transformation:\n",
    "$$g(C)=\\log{\\Big[\\frac{C}{1-C}\\Big]}=\\log{[C]}-\\log{[1-C]}$$"
   ]
  },
  {
   "cell_type": "code",
   "execution_count": 94,
   "metadata": {},
   "outputs": [
    {
     "data": {
      "text/html": [
       "7.02464903045358"
      ],
      "text/latex": [
       "7.02464903045358"
      ],
      "text/markdown": [
       "7.02464903045358"
      ],
      "text/plain": [
       "[1] 7.024649"
      ]
     },
     "metadata": {},
     "output_type": "display_data"
    }
   ],
   "source": [
    "# g.C <- log(1/C) + log(1/(1-C))  \n",
    "g.C <- log(C) - log(1-C)\n",
    "\n",
    "g.C"
   ]
  },
  {
   "cell_type": "markdown",
   "metadata": {},
   "source": [
    "$$g^\\prime(C)=\\frac{1}{C} + \\frac{1}{1-C} \\tag{7}$$"
   ]
  },
  {
   "cell_type": "code",
   "execution_count": 95,
   "metadata": {},
   "outputs": [
    {
     "data": {
      "text/html": [
       "1126.00088967965"
      ],
      "text/latex": [
       "1126.00088967965"
      ],
      "text/markdown": [
       "1126.00088967965"
      ],
      "text/plain": [
       "[1] 1126.001"
      ]
     },
     "metadata": {},
     "output_type": "display_data"
    }
   ],
   "source": [
    "g.prime.C <- 1/C + 1/(1-C)  \n",
    "  \n",
    "g.prime.C"
   ]
  },
  {
   "cell_type": "markdown",
   "metadata": {},
   "source": [
    "$$Var[g(C)]={g^\\prime(C)}^2 \\cdot Var[C] \\tag{8}$$"
   ]
  },
  {
   "cell_type": "code",
   "execution_count": 96,
   "metadata": {},
   "outputs": [
    {
     "data": {
      "text/html": [
       "1.86831998154133e-07"
      ],
      "text/latex": [
       "1.86831998154133e-07"
      ],
      "text/markdown": [
       "1.86831998154133e-07"
      ],
      "text/plain": [
       "[1] 1.86832e-07"
      ]
     },
     "metadata": {},
     "output_type": "display_data"
    }
   ],
   "source": [
    "var.g.c <- g.prime.C^2 * var.C\n",
    "  \n",
    "var.g.c"
   ]
  },
  {
   "cell_type": "markdown",
   "metadata": {},
   "source": [
    "Let $[L, U]$ be the lower and upper limits of the 95% CI for $g(C)$, then:\n",
    "$$[L, U]=g(C)\\pm 1.96 \\sqrt{Var[g(C)]} \\tag{9}$$"
   ]
  },
  {
   "cell_type": "code",
   "execution_count": 97,
   "metadata": {},
   "outputs": [
    {
     "data": {
      "text/html": [
       "<style>\n",
       ".list-inline {list-style: none; margin:0; padding: 0}\n",
       ".list-inline>li {display: inline-block}\n",
       ".list-inline>li:not(:last-child)::after {content: \"\\00b7\"; padding: 0 .5ex}\n",
       "</style>\n",
       "<ol class=list-inline><li>7.02549622216984</li><li>7.02380183873731</li></ol>\n"
      ],
      "text/latex": [
       "\\begin{enumerate*}\n",
       "\\item 7.02549622216984\n",
       "\\item 7.02380183873731\n",
       "\\end{enumerate*}\n"
      ],
      "text/markdown": [
       "1. 7.02549622216984\n",
       "2. 7.02380183873731\n",
       "\n",
       "\n"
      ],
      "text/plain": [
       "[1] 7.025496 7.023802"
      ]
     },
     "metadata": {},
     "output_type": "display_data"
    }
   ],
   "source": [
    "L.U <- c(g.C + 1.96*sqrt(var.g.c), g.C - 1.96*sqrt(var.g.c))  \n",
    "  \n",
    "L.U"
   ]
  },
  {
   "cell_type": "markdown",
   "metadata": {},
   "source": [
    "Then the 95% CI for C is:\n",
    "\n",
    "\n",
    "$$[g^{-1}(L), g^{-1}(U)] \\tag{10}$$\n"
   ]
  },
  {
   "cell_type": "code",
   "execution_count": 98,
   "metadata": {},
   "outputs": [
    {
     "data": {
      "text/html": [
       "<style>\n",
       ".list-inline {list-style: none; margin:0; padding: 0}\n",
       ".list-inline>li {display: inline-block}\n",
       ".list-inline>li:not(:last-child)::after {content: \"\\00b7\"; padding: 0 .5ex}\n",
       "</style>\n",
       "<ol class=list-inline><li>0.999111863182975</li><li>0.999110358402962</li></ol>\n"
      ],
      "text/latex": [
       "\\begin{enumerate*}\n",
       "\\item 0.999111863182975\n",
       "\\item 0.999110358402962\n",
       "\\end{enumerate*}\n"
      ],
      "text/markdown": [
       "1. 0.999111863182975\n",
       "2. 0.999110358402962\n",
       "\n",
       "\n"
      ],
      "text/plain": [
       "[1] 0.9991119 0.9991104"
      ]
     },
     "metadata": {},
     "output_type": "display_data"
    }
   ],
   "source": [
    "CI <- exp(L.U) / (1+exp(L.U))\n",
    "\n",
    "CI"
   ]
  },
  {
   "cell_type": "code",
   "execution_count": null,
   "metadata": {},
   "outputs": [],
   "source": []
  }
 ],
 "metadata": {
  "kernelspec": {
   "display_name": "R",
   "language": "R",
   "name": "ir"
  },
  "language_info": {
   "codemirror_mode": "r",
   "file_extension": ".r",
   "mimetype": "text/x-r-source",
   "name": "R",
   "pygments_lexer": "r",
   "version": "3.6.2"
  }
 },
 "nbformat": 4,
 "nbformat_minor": 4
}
